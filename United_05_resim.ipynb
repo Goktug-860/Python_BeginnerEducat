{
  "nbformat": 4,
  "nbformat_minor": 0,
  "metadata": {
    "colab": {
      "provenance": [],
      "include_colab_link": true
    },
    "kernelspec": {
      "name": "python3",
      "display_name": "Python 3"
    },
    "language_info": {
      "name": "python"
    }
  },
  "cells": [
    {
      "cell_type": "markdown",
      "metadata": {
        "id": "view-in-github",
        "colab_type": "text"
      },
      "source": [
        "<a href=\"https://colab.research.google.com/github/Goktug-860/Python_BeginnerEducat/blob/main/United_05_resim.ipynb\" target=\"_parent\"><img src=\"https://colab.research.google.com/assets/colab-badge.svg\" alt=\"Open In Colab\"/></a>"
      ]
    },
    {
      "cell_type": "code",
      "execution_count": null,
      "metadata": {
        "id": "e6d9sPnZijWa",
        "outputId": "97a42c44-8da4-4189-b78c-730db137a731",
        "colab": {
          "base_uri": "https://localhost:8080/"
        }
      },
      "outputs": [
        {
          "output_type": "stream",
          "name": "stdout",
          "text": [
            "Requirement already satisfied: ascii_magic in /usr/local/lib/python3.11/dist-packages (2.3.0)\n",
            "Requirement already satisfied: colorama in /usr/local/lib/python3.11/dist-packages (from ascii_magic) (0.4.6)\n",
            "Requirement already satisfied: Pillow in /usr/local/lib/python3.11/dist-packages (from ascii_magic) (11.1.0)\n"
          ]
        }
      ],
      "source": [
        "pip install ascii_magic"
      ]
    },
    {
      "cell_type": "code",
      "source": [
        "import ascii_magic\n",
        "#Kütüphanenin içindeki ufak bir sınıf şöyle dahil edilir;\n",
        "from ascii_magic import * #Yıldız işareti içindekilerin hepsini dahil eder.\n",
        "\n",
        "#Bayrak resmini indirip colab'ten dosya olarak yüklendikten sonra şunu yazıyoruz:\n",
        "TBMM = AsciiArt.from_image('TBMM.png') #sizin dosyanız jpg ise png yerine yazın.\n",
        "#Resmi Terminale yükleme\n",
        "TBMM.to_terminal()"
      ],
      "metadata": {
        "id": "M0E-8xZQiqIg",
        "colab": {
          "base_uri": "https://localhost:8080/",
          "height": 765
        },
        "outputId": "f01351ce-6796-4343-a9f8-ed56d5185838"
      },
      "execution_count": null,
      "outputs": [
        {
          "output_type": "stream",
          "name": "stdout",
          "text": [
            "NNNMMMMMMMMA3nnnne*[I1?![?[I]]!1]t[te17eooaj7jj7ujLnjuuLnunnLnuunLnuunnnTT##J#JJJJ#TJTJ###w#nuLTwT#fffw2hYBNWWWWWWWWWWWW\n",
            "NNNNMNNMMMMRBgwuujtI}?1t1]![[][ttttaee7777777ojuTnjjjjz7z7zz7z777eoeo7j77aaeata11t[]t[[[!?!?!Iscrc?!!jS8NMWWWWWWWWWWH48D\n",
            "NNNNNNNNNMMMM0@Fj7jjjLCy3J2qSpSEXXGPXXPPG4hddq4gXdmSdS4PX444XgXgVFmmFhEVhyp2fp6pp552522nT#7j#Tj{sc{JPBRMNNNWWWWWWWWKAg4&\n",
            "0000000R0RMRRR00AFCJw#5pm6Sm6mSgVV44E4EV4hVhddgXPg4EEdgXPPbPbGPXXEgX4EgEXSggSh4VdgdVVSS5p623pFFo1T8RRNNWNMMMMNNNNDUkbShZ\n",
            "p22255FFmkUU$$$$K82fyfFmShgqShdhVq5#Tyqh4h44EEPgXEGXXXPXPdS3q4PZZPGXPXgE4Egd4EdhgFFg444SghVqmFSu75Q00000M@&@@KKHHKkg4yV@\n",
            ";,;;^=+/+|i%clllrl1323hSVdhgEd6wTjettazTy64XggGgGXPXZX463LttoLCpdGYPZGGXggGXEgp#e!!1z#6dX4dSh6g#n##TTnTuI<\\<<<<>><)\"/\")v\n",
            "rr{l)<+^+/\")<>>)>>I355h4Xd4gSTozuLujoozLuL#qGGXXbGGG4yJ#JueuJCJunf4YYbbGZPG43u7azLuza]!e2XGhhhd2Jn\":::'_-_'^;//^^^^^;:''\n",
            "n7Lo{*><lItzTTLnujTy55g4X4Xqjoun7?r%<<%r?on#qbZGbGb4fTj[*rvcs]z#f##VOYkYPbXj?c>\\il!euL7[!wGbVhgFwC?}!ll%i^^vvaL7o111a1tt\n",
            "yuJL?!>i*1zuL[I1jJJw35X4XEPf7TL?l)>i}ta!??[uFGbkGPZqj1?IoLjaslr[uF56YbbbGkmI!*v|/\"\\x]ufueo4ZXdEmJwa{1jo?*)^cr7yTnjTu[c>)\n",
            "LL#u!]>)Iautx[Cfjj2y26ZGGPZS23?ri1[y6yw#TL1tmY&&&AAq[?o7TCyfJtt}twgEkkAOkYSteo7ts)/\"l16S5wOEg4Z4wyti\\inz!)^r*jg25F4t:;^^\n",
            "zTwL1t))?j5I<tujJLmy3qbGGGPVd4dtjwo2ynyCCynEZAU8kkOXh#CnwwJpgfwLm4ZGkYkG88Gnazotu[s\"vgXX46&EgEGgyy7s})]J7r=l]7663m47;^=/\n",
            "fffu[1>v1zw*^\\sw4y6y36GGGbb4PY&jghTdmCd6FE5k&AUUZPZGkYYbkbZbbYYbYZZPGPGgk&OSJ32Lg3C%vPkZPhOPgXGX3yLILxI2T?/%[em2Fmdu_;:=\n",
            "CTwj]1<x]7y{;;/fP2myyqYbbkbgkYOSGbgbGgkGdOPAU8$$8PGk&&8&&A&A&8U&8&8&&kYZA&&AdEXpOXg5fEObZgAPXXGYp3J}ox*5#1|i1t6622gFl>>>\n",
            "JCJz][<l17y711aC5y5wySkbbkbEOkkPmdghESdEm4P8$U@@$bGb8DHHH@88$$U@HKK@OkYGA88&dEghX4gShE8OOZAGPGb&m33j7ezwua<>t12p2fgqVtat\n",
            "CfCt][<ro7JyFqSq6Spy26PXGbZ4PPGbGbYYkYYkOYkAAYA&8YYOU@$@$K&&88$$@K@HAYbXYAAA8&&&AAAOOOOkkYbPPPbkg32wJ#J#Lev\\tt32y3mJ23yy\n",
            "JCJa[[<{jL5mpmqhVEqw2F4PEXGXEgEEgEXXPXGPbZbbYYOA&kbk8DHDDDDDKBWBBDHDUAAbGA&AOYYGGPGXXgPPPPGZbPXgh25TCJCTL7c|[1CmFFFF#jLu\n",
            "fwJa!]\\*7uCfyy22255f35EgdPZZGGYYAAAkkO&&8&8OAO&OOYk&UHH&Xmhp2mqpX&KDUk&GPk&&OkAkOAAOOkYkbGbbGGPEV35CJCfCJjr\"?1#m6Fp2F2yf\n",
            "Cwj1?I<}zuw266qqm65y3FPVEXGbOdJwyfyO$by3yffb&YkkkbbY&W5[I{!}i[rl!]qMUbAZEY&A$51ee1d@G!?I{#kZZX44d35J7jjJ#o?|*[uVmpF5pm2[\n",
            "nuu]I}<?oLw1!!1]?oFy56ZXbZYZk5>v)>vGH4crcxrhk@$@&kA&$N#l]]1Tjut1!x5MK8$&GYkkUfrsrxm@blvv>tEXXgVV42Fe;^;{Tz1)r[7Sq5mq62o\"\n",
            "jLo?**\\}tee|;=++=cy32mZPkkZXX2%x{lrGHX{{I*Id8$U@Ok88$W2]1tj#5#7[t[fNK&8APkA&&Fv*r%5@Asil)!gEXZbZX5FL+=^xjz1\\x11p55225Cev\n",
            "Tnu?*{\\}e7t)+/\"\"\"lwy2qYYYZYGbpv)sixPHPlcI{s48&88bYkO8Mw?{ll[PLci1{#NHO&kGOA&AS>lliw$&!>rv*44PZb4g65J\"^^<ee1<i[[JwwfJTzoc\n",
            "LoLI{r\\]t7e|=/\"\"/cC35mYZGZYZG5iirixPHZlxI{rh&&UkYOkk&M2o]lr1Gy!l71uWDA8&XO8&&4vll)uUU1)c)cggG4GPGp2f\\=+|ozei<??jCTfuLoj*\n",
            "LLT{sl\\?7jt/;+/+=xfy26GYYYZPZ2lrI{*XKb?It1]48UAAAOA&UM671ll!X2f!zonWB&&&GYU8Obyy2yq&8g255FgdZbGXbm23a?[[7za%)*I7#zTuueea\n",
            "1jn*rc>]7nj11ao7o7J25qbYbAYOYXVdEgPk$kZYYYAO8&AUUAAA8MSzasrI4So}hGpDBAOkbOA8&8@8$8AYkb8k&AYbbbgXgh52Tejuje1l\\*1LCLnujjoL\n",
            "totsrx<!1zJf#y53f#CF6hYYGXkXXYGGAGYYZYUA&8UOOO88U8U$$BYun2mgbZgFwy2HB8&AbbbkkYAGkbZXGEGEXXEPEgdVdmppCa77nje}iIu#uLLettta\n",
            "]1?*IIi*[ezLaonTnn2qhhE44EPPZGPPYGPZYkOYkkYZEkO&8UKKKD$wCqEPPEggFSgKB$U8OZbPEEE323fVhdFuLu3hg62y55y27c{[nuj1*1LunuzzLjnT\n",
            "[{ss*l<c{!e1c%lcItJ666m56pmgEG2yywmYbkqJffFGf4Y&@KWBWBBDDDDDDBBBBBBBBBBBBBDD$&AgS2#XkYP44dGkkkYbYYkkYZkYYkOkkOOkAAAOA&&&\n",
            "#uCy266S444EEdEgXXbYYZbbbbZYOUGXPPOK@K8A&8UK&$BDHHKKKKHKK@KUUU$$$U$@HHKHDDDDDDDBBNWWWWWNNNWWWWWWWWWWWWWWWWWWWBBBBBBBBBBB\n",
            "888U$@KDBBBBWWWWDWWWWWWWWWWWWWNNNNWWWWWWWWWWWWWBBBBBBBBBBBWBBBBBBBBWWWWWWWWWWWWWWBBWBBBBBBBBBBBBBBBBBBBBBDBDDDDDDDDDDDDH\n",
            "KKHDH@KHHDDDDDBBDBBBBBBBBBBBBBBBBBBBBBBBBBBBBWBBWWWBWWWWWWWWWWWWWWWWBWWWWWWWWBBBBBBBBBBBBBBBBBBBBBBBBBBDDBBBDDDDDH@DDDDH\n",
            "KK@@KKKKKHHDDDDDBBBBBBBBBBBBBBBBBBBBBBBBBBBBWWWBWWWWWWWWWWWWBWWWWWWWWWWWBBBWBBBBBBBBBBBBBBBBBBBBBBBBKDDBBDDDDDDDH$G4&DDH\n",
            "$$UU$@@KKK@HHDDDDDBDBBBBBBBBBBBBBBBBBBBBBBBBBBBBBWBBBBBBBWWWWWBBWBBBBWWBBBBWBBBBBBBBBDBBBBBBBBBBBBBBUkOHBDDDBDDDDDD@KDDD\n",
            "@$$$KK@KKKKKKHHDHDBDBBBBBBBBBBBBBBBBBBBBBBBBBBBBBBBBBBBBBBBWBBBBBBBBBBBBBBBBBBBBBBBBBDBBBBBBBBBBDBBBBBBBBBBDBDDDHHDDDHHH\n",
            "K@@KHHHKHHHDDDDDDDDHDBDDBBBBBBBBBBBBBBBBBBBBBBBBBDBBBBBBBBBBWBBBBBBBBBBBBBBBBBDBBBBBBBBBBBBBBDBDDDDDDDDDBDDDDDDDDHHDHKDK\n",
            "HHHHHDDHKHDHKDDDDKDBDDDBDDBDDDDBBDDBDDBBBBBBBBBBBBBBBBBBDBBBBBBDBBBBBBBBBBBDBBBBBBBBBBBBBBBBBBBBBBBBBBBDBDDDHDBKHDHHH$HK\n"
          ]
        },
        {
          "output_type": "execute_result",
          "data": {
            "text/plain": [
              "'\\x1b[37mN\\x1b[37mN\\x1b[37mN\\x1b[37mM\\x1b[37mM\\x1b[37mM\\x1b[37mM\\x1b[37mM\\x1b[37mM\\x1b[37mM\\x1b[37mM\\x1b[37mA\\x1b[37m3\\x1b[90mn\\x1b[90mn\\x1b[90mn\\x1b[90mn\\x1b[90me\\x1b[90m*\\x1b[90m[\\x1b[90mI\\x1b[90m1\\x1b[90m?\\x1b[90m!\\x1b[90m[\\x1b[90m?\\x1b[90m[\\x1b[90mI\\x1b[90m]\\x1b[90m]\\x1b[90m!\\x1b[90m1\\x1b[90m]\\x1b[90mt\\x1b[90m[\\x1b[90mt\\x1b[90me\\x1b[90m1\\x1b[90m7\\x1b[90me\\x1b[90mo\\x1b[90mo\\x1b[90ma\\x1b[90mj\\x1b[90m7\\x1b[90mj\\x1b[90mj\\x1b[90m7\\x1b[90mu\\x1b[90mj\\x1b[90mL\\x1b[90mn\\x1b[90mj\\x1b[90mu\\x1b[90mu\\x1b[90mL\\x1b[90mn\\x1b[90mu\\x1b[90mn\\x1b[90mn\\x1b[90mL\\x1b[90mn\\x1b[90mu\\x1b[90mu\\x1b[90mn\\x1b[90mL\\x1b[90mn\\x1b[90mu\\x1b[90mu\\x1b[90mn\\x1b[90mn\\x1b[90mn\\x1b[90mT\\x1b[90mT\\x1b[90m#\\x1b[90m#\\x1b[90mJ\\x1b[90m#\\x1b[90mJ\\x1b[90mJ\\x1b[90mJ\\x1b[90mJ\\x1b[90m#\\x1b[90mT\\x1b[90mJ\\x1b[90mT\\x1b[90mJ\\x1b[90m#\\x1b[90m#\\x1b[90m#\\x1b[90mw\\x1b[90m#\\x1b[90mn\\x1b[90mu\\x1b[90mL\\x1b[90mT\\x1b[90mw\\x1b[90mT\\x1b[90m#\\x1b[90mf\\x1b[37mf\\x1b[90mf\\x1b[90mw\\x1b[37m2\\x1b[37mh\\x1b[37mY\\x1b[37mB\\x1b[37mN\\x1b[37mW\\x1b[37mW\\x1b[37mW\\x1b[37mW\\x1b[37mW\\x1b[37mW\\x1b[37mW\\x1b[37mW\\x1b[37mW\\x1b[37mW\\x1b[37mW\\x1b[37mW\\n\\x1b[37mN\\x1b[37mN\\x1b[37mN\\x1b[37mN\\x1b[37mM\\x1b[37mN\\x1b[37mN\\x1b[37mM\\x1b[37mM\\x1b[37mM\\x1b[37mM\\x1b[37mR\\x1b[37mB\\x1b[37mg\\x1b[90mw\\x1b[90mu\\x1b[90mu\\x1b[90mj\\x1b[90mt\\x1b[90mI\\x1b[90m}\\x1b[90m?\\x1b[90m1\\x1b[90mt\\x1b[90m1\\x1b[90m]\\x1b[90m!\\x1b[90m[\\x1b[90m[\\x1b[90m]\\x1b[90m[\\x1b[90mt\\x1b[90mt\\x1b[90mt\\x1b[90mt\\x1b[90ma\\x1b[90me\\x1b[90me\\x1b[90m7\\x1b[90m7\\x1b[90m7\\x1b[90m7\\x1b[90m7\\x1b[90m7\\x1b[90m7\\x1b[90mo\\x1b[90mj\\x1b[90mu\\x1b[90mT\\x1b[90mn\\x1b[90mj\\x1b[90mj\\x1b[90mj\\x1b[90mj\\x1b[90mz\\x1b[90m7\\x1b[90mz\\x1b[90m7\\x1b[90mz\\x1b[90mz\\x1b[90m7\\x1b[90mz\\x1b[90m7\\x1b[90m7\\x1b[90m7\\x1b[90me\\x1b[90mo\\x1b[90me\\x1b[90mo\\x1b[90m7\\x1b[90mj\\x1b[90m7\\x1b[90m7\\x1b[90ma\\x1b[90ma\\x1b[90me\\x1b[90ma\\x1b[90mt\\x1b[90ma\\x1b[90m1\\x1b[90m1\\x1b[90mt\\x1b[90m[\\x1b[90m]\\x1b[90mt\\x1b[90m[\\x1b[90m[\\x1b[90m[\\x1b[90m!\\x1b[90m?\\x1b[90m!\\x1b[90m?\\x1b[90m!\\x1b[90mI\\x1b[90ms\\x1b[90mc\\x1b[90mr\\x1b[90mc\\x1b[90m?\\x1b[90m!\\x1b[90m!\\x1b[90mj\\x1b[37mS\\x1b[37m8\\x1b[37mN\\x1b[37mM\\x1b[37mW\\x1b[37mW\\x1b[37mW\\x1b[37mW\\x1b[37mW\\x1b[37mW\\x1b[37mW\\x1b[37mW\\x1b[37mW\\x1b[37mW\\x1b[37mH\\x1b[37m4\\x1b[37m8\\x1b[37mD\\n\\x1b[37mN\\x1b[37mN\\x1b[37mN\\x1b[37mN\\x1b[37mN\\x1b[37mN\\x1b[37mN\\x1b[37mN\\x1b[37mN\\x1b[37mM\\x1b[37mM\\x1b[37mM\\x1b[37mM\\x1b[37m0\\x1b[37m@\\x1b[37mF\\x1b[90mj\\x1b[90m7\\x1b[90mj\\x1b[90mj\\x1b[90mj\\x1b[90mL\\x1b[90mC\\x1b[37my\\x1b[37m3\\x1b[90mJ\\x1b[37m2\\x1b[37mq\\x1b[37mS\\x1b[37mp\\x1b[37mS\\x1b[37mE\\x1b[37mX\\x1b[37mX\\x1b[37mG\\x1b[37mP\\x1b[37mX\\x1b[37mX\\x1b[37mP\\x1b[37mP\\x1b[37mG\\x1b[37m4\\x1b[37mh\\x1b[37md\\x1b[37md\\x1b[37mq\\x1b[37m4\\x1b[37mg\\x1b[37mX\\x1b[37md\\x1b[37mm\\x1b[37mS\\x1b[37md\\x1b[37mS\\x1b[37m4\\x1b[37mP\\x1b[37mX\\x1b[37m4\\x1b[37m4\\x1b[37m4\\x1b[37mX\\x1b[37mg\\x1b[37mX\\x1b[37mg\\x1b[37mV\\x1b[37mF\\x1b[37mm\\x1b[37mm\\x1b[37mF\\x1b[37mh\\x1b[37mE\\x1b[37mV\\x1b[37mh\\x1b[37my\\x1b[37mp\\x1b[37m2\\x1b[90mf\\x1b[37mp\\x1b[37m6\\x1b[37mp\\x1b[37mp\\x1b[37m5\\x1b[37m5\\x1b[37m2\\x1b[37m5\\x1b[37m2\\x1b[37m2\\x1b[90mn\\x1b[90mT\\x1b[90m#\\x1b[90m7\\x1b[90mj\\x1b[90m#\\x1b[90mT\\x1b[90mj\\x1b[90m{\\x1b[90ms\\x1b[90mc\\x1b[90m{\\x1b[90mJ\\x1b[37mP\\x1b[37mB\\x1b[37mR\\x1b[37mM\\x1b[37mN\\x1b[37mN\\x1b[37mN\\x1b[37mW\\x1b[37mW\\x1b[37mW\\x1b[37mW\\x1b[37mW\\x1b[37mW\\x1b[37mW\\x1b[37mW\\x1b[37mK\\x1b[37mA\\x1b[37mg\\x1b[37m4\\x1b[37m&\\n\\x1b[37m0\\x1b[37m0\\x1b[37m0\\x1b[37m0\\x1b[37m0\\x1b[37m0\\x1b[37m0\\x1b[37mR\\x1b[37m0\\x1b[37mR\\x1b[37mM\\x1b[37mR\\x1b[37mR\\x1b[37mR\\x1b[37m0\\x1b[37m0\\x1b[37mA\\x1b[37mF\\x1b[90mC\\x1b[90mJ\\x1b[90mw\\x1b[90m#\\x1b[37m5\\x1b[37mp\\x1b[37mm\\x1b[37m6\\x1b[37mS\\x1b[37mm\\x1b[37m6\\x1b[37mm\\x1b[37mS\\x1b[37mg\\x1b[37mV\\x1b[37mV\\x1b[37m4\\x1b[37m4\\x1b[37mE\\x1b[37m4\\x1b[37mE\\x1b[37mV\\x1b[37m4\\x1b[37mh\\x1b[37mV\\x1b[37mh\\x1b[37md\\x1b[37md\\x1b[37mg\\x1b[37mX\\x1b[37mP\\x1b[37mg\\x1b[37m4\\x1b[37mE\\x1b[37mE\\x1b[37md\\x1b[37mg\\x1b[37mX\\x1b[37mP\\x1b[37mP\\x1b[37mb\\x1b[37mP\\x1b[37mb\\x1b[37mG\\x1b[37mP\\x1b[37mX\\x1b[37mX\\x1b[37mE\\x1b[37mg\\x1b[37mX\\x1b[37m4\\x1b[37mE\\x1b[37mg\\x1b[37mE\\x1b[37mX\\x1b[37mS\\x1b[37mg\\x1b[37mg\\x1b[37mS\\x1b[37mh\\x1b[37m4\\x1b[37mV\\x1b[37md\\x1b[37mg\\x1b[37md\\x1b[37mV\\x1b[37mV\\x1b[37mS\\x1b[37mS\\x1b[37m5\\x1b[37mp\\x1b[37m6\\x1b[37m2\\x1b[37m3\\x1b[37mp\\x1b[37mF\\x1b[37mF\\x1b[90mo\\x1b[90m1\\x1b[90mT\\x1b[37m8\\x1b[37mR\\x1b[37mR\\x1b[37mN\\x1b[37mN\\x1b[37mW\\x1b[37mN\\x1b[37mM\\x1b[37mM\\x1b[37mM\\x1b[37mM\\x1b[37mN\\x1b[37mN\\x1b[37mN\\x1b[37mN\\x1b[37mD\\x1b[37mU\\x1b[37mk\\x1b[37mb\\x1b[37mS\\x1b[37mh\\x1b[37mZ\\n\\x1b[37mp\\x1b[37m2\\x1b[37m2\\x1b[37m2\\x1b[37m5\\x1b[37m5\\x1b[37mF\\x1b[37mF\\x1b[37mm\\x1b[37mk\\x1b[37mU\\x1b[37mU\\x1b[37m$\\x1b[37m$\\x1b[37m$\\x1b[37m$\\x1b[37mK\\x1b[37m8\\x1b[37m2\\x1b[37mf\\x1b[37my\\x1b[37mf\\x1b[37mF\\x1b[37mm\\x1b[37mS\\x1b[37mh\\x1b[37mg\\x1b[37mq\\x1b[37mS\\x1b[37mh\\x1b[37md\\x1b[37mh\\x1b[37mV\\x1b[37mq\\x1b[37m5\\x1b[90m#\\x1b[90mT\\x1b[37my\\x1b[37mq\\x1b[37mh\\x1b[37m4\\x1b[37mh\\x1b[37m4\\x1b[37m4\\x1b[37mE\\x1b[37mE\\x1b[37mP\\x1b[37mg\\x1b[37mX\\x1b[37mE\\x1b[37mG\\x1b[37mX\\x1b[37mX\\x1b[37mX\\x1b[37mP\\x1b[37mX\\x1b[37mP\\x1b[37md\\x1b[37mS\\x1b[37m3\\x1b[37mq\\x1b[37m4\\x1b[37mP\\x1b[37mZ\\x1b[37mZ\\x1b[37mP\\x1b[37mG\\x1b[37mX\\x1b[37mP\\x1b[37mX\\x1b[37mg\\x1b[37mE\\x1b[37m4\\x1b[37mE\\x1b[37mg\\x1b[37md\\x1b[37m4\\x1b[37mE\\x1b[37md\\x1b[37mh\\x1b[37mg\\x1b[37mF\\x1b[37mF\\x1b[37mg\\x1b[37m4\\x1b[37m4\\x1b[37m4\\x1b[37mS\\x1b[37mg\\x1b[37mh\\x1b[37mV\\x1b[37mq\\x1b[37mm\\x1b[37mF\\x1b[37mS\\x1b[90mu\\x1b[90m7\\x1b[37m5\\x1b[37mQ\\x1b[37m0\\x1b[37m0\\x1b[37m0\\x1b[37m0\\x1b[37m0\\x1b[37mM\\x1b[37m@\\x1b[37m&\\x1b[37m@\\x1b[37m@\\x1b[37mK\\x1b[37mK\\x1b[37mH\\x1b[37mH\\x1b[37mK\\x1b[37mk\\x1b[37mg\\x1b[37m4\\x1b[37my\\x1b[37mV\\x1b[37m@\\n\\x1b[90m;\\x1b[90m,\\x1b[90m;\\x1b[90m;\\x1b[90m^\\x1b[90m=\\x1b[90m+\\x1b[90m/\\x1b[90m+\\x1b[90m|\\x1b[90mi\\x1b[90m%\\x1b[90mc\\x1b[90ml\\x1b[90ml\\x1b[90ml\\x1b[90mr\\x1b[90ml\\x1b[90m1\\x1b[37m3\\x1b[37m2\\x1b[37m3\\x1b[37mh\\x1b[37mS\\x1b[37mV\\x1b[37md\\x1b[37mh\\x1b[37mg\\x1b[37mE\\x1b[37md\\x1b[37m6\\x1b[90mw\\x1b[90mT\\x1b[90mj\\x1b[90me\\x1b[90mt\\x1b[90mt\\x1b[90ma\\x1b[90mz\\x1b[90mT\\x1b[37my\\x1b[37m6\\x1b[37m4\\x1b[37mX\\x1b[37mg\\x1b[37mg\\x1b[37mG\\x1b[37mg\\x1b[37mG\\x1b[37mX\\x1b[37mP\\x1b[37mX\\x1b[37mZ\\x1b[37mX\\x1b[37m4\\x1b[37m6\\x1b[37m3\\x1b[90mL\\x1b[90mt\\x1b[90mt\\x1b[90mo\\x1b[90mL\\x1b[90mC\\x1b[37mp\\x1b[37md\\x1b[37mG\\x1b[37mY\\x1b[37mP\\x1b[37mZ\\x1b[37mG\\x1b[37mG\\x1b[37mX\\x1b[37mg\\x1b[37mg\\x1b[37mG\\x1b[37mX\\x1b[37mE\\x1b[37mg\\x1b[37mp\\x1b[90m#\\x1b[90me\\x1b[90m!\\x1b[90m!\\x1b[90m1\\x1b[90mz\\x1b[90m#\\x1b[37m6\\x1b[37md\\x1b[37mX\\x1b[37m4\\x1b[37md\\x1b[37mS\\x1b[37mh\\x1b[37m6\\x1b[37mg\\x1b[90m#\\x1b[90mn\\x1b[90m#\\x1b[90m#\\x1b[90mT\\x1b[90mT\\x1b[90mn\\x1b[90mT\\x1b[90mu\\x1b[90mI\\x1b[90m<\\x1b[90m\\\\\\x1b[90m<\\x1b[90m<\\x1b[90m<\\x1b[90m<\\x1b[90m>\\x1b[90m>\\x1b[90m<\\x1b[90m)\\x1b[90m\"\\x1b[90m/\\x1b[90m\"\\x1b[90m)\\x1b[90mv\\n\\x1b[90mr\\x1b[90mr\\x1b[90m{\\x1b[90ml\\x1b[90m)\\x1b[90m<\\x1b[90m+\\x1b[90m^\\x1b[90m+\\x1b[90m/\\x1b[90m\"\\x1b[90m)\\x1b[90m<\\x1b[90m>\\x1b[90m>\\x1b[90m)\\x1b[90m>\\x1b[90m>\\x1b[90mI\\x1b[37m3\\x1b[37m5\\x1b[37m5\\x1b[37mh\\x1b[37m4\\x1b[37mX\\x1b[37md\\x1b[37m4\\x1b[37mg\\x1b[37mS\\x1b[90mT\\x1b[90mo\\x1b[90mz\\x1b[90mu\\x1b[90mL\\x1b[90mu\\x1b[90mj\\x1b[90mo\\x1b[90mo\\x1b[90mz\\x1b[90mL\\x1b[90mu\\x1b[90mL\\x1b[90m#\\x1b[37mq\\x1b[37mG\\x1b[37mG\\x1b[37mX\\x1b[37mX\\x1b[37mb\\x1b[37mG\\x1b[37mG\\x1b[37mG\\x1b[37m4\\x1b[37my\\x1b[90mJ\\x1b[90m#\\x1b[90mJ\\x1b[90mu\\x1b[90me\\x1b[90mu\\x1b[90mJ\\x1b[90mC\\x1b[90mJ\\x1b[90mu\\x1b[90mn\\x1b[90mf\\x1b[37m4\\x1b[37mY\\x1b[37mY\\x1b[37mb\\x1b[37mb\\x1b[37mG\\x1b[37mZ\\x1b[37mP\\x1b[37mG\\x1b[37m4\\x1b[37m3\\x1b[90mu\\x1b[90m7\\x1b[90ma\\x1b[90mz\\x1b[90mL\\x1b[90mu\\x1b[90mz\\x1b[90ma\\x1b[90m]\\x1b[90m!\\x1b[90me\\x1b[37m2\\x1b[37mX\\x1b[37mG\\x1b[37mh\\x1b[37mh\\x1b[37mh\\x1b[37md\\x1b[37m2\\x1b[90mJ\\x1b[90mn\\x1b[90m\"\\x1b[90m:\\x1b[90m:\\x1b[90m:\\x1b[90m\\'\\x1b[90m_\\x1b[90m-\\x1b[90m_\\x1b[90m\\'\\x1b[90m^\\x1b[90m;\\x1b[90m/\\x1b[90m/\\x1b[90m^\\x1b[90m^\\x1b[90m^\\x1b[90m^\\x1b[90m^\\x1b[90m;\\x1b[90m:\\x1b[90m\\'\\x1b[90m\\'\\n\\x1b[90mn\\x1b[90m7\\x1b[90mL\\x1b[90mo\\x1b[90m{\\x1b[90m*\\x1b[90m>\\x1b[90m<\\x1b[90ml\\x1b[90mI\\x1b[90mt\\x1b[90mz\\x1b[90mT\\x1b[90mT\\x1b[90mL\\x1b[90mn\\x1b[90mu\\x1b[90mj\\x1b[90mT\\x1b[37my\\x1b[37m5\\x1b[37m5\\x1b[37mg\\x1b[37m4\\x1b[37mX\\x1b[37m4\\x1b[37mX\\x1b[37mq\\x1b[90mj\\x1b[90mo\\x1b[90mu\\x1b[90mn\\x1b[90m7\\x1b[90m?\\x1b[90mr\\x1b[90m%\\x1b[90m<\\x1b[90m<\\x1b[90m%\\x1b[90mr\\x1b[90m?\\x1b[90mo\\x1b[90mn\\x1b[90m#\\x1b[37mq\\x1b[37mb\\x1b[37mZ\\x1b[37mG\\x1b[37mb\\x1b[37mG\\x1b[37mb\\x1b[37m4\\x1b[90mf\\x1b[90mT\\x1b[90mj\\x1b[90m[\\x1b[90m*\\x1b[90mr\\x1b[90mv\\x1b[90mc\\x1b[90ms\\x1b[90m]\\x1b[90mz\\x1b[90m#\\x1b[37mf\\x1b[90m#\\x1b[90m#\\x1b[37mV\\x1b[37mO\\x1b[37mY\\x1b[37mk\\x1b[37mY\\x1b[37mP\\x1b[37mb\\x1b[37mX\\x1b[90mj\\x1b[90m?\\x1b[90mc\\x1b[90m>\\x1b[90m\\\\\\x1b[90mi\\x1b[90ml\\x1b[90m!\\x1b[90me\\x1b[90mu\\x1b[90mL\\x1b[90m7\\x1b[90m[\\x1b[90m!\\x1b[90mw\\x1b[37mG\\x1b[37mb\\x1b[37mV\\x1b[37mh\\x1b[37mg\\x1b[37mF\\x1b[90mw\\x1b[90mC\\x1b[90m?\\x1b[90m}\\x1b[90m!\\x1b[90ml\\x1b[90ml\\x1b[90m%\\x1b[90mi\\x1b[90m^\\x1b[90m^\\x1b[90mv\\x1b[90mv\\x1b[90ma\\x1b[90mL\\x1b[90m7\\x1b[90mo\\x1b[90m1\\x1b[90m1\\x1b[90m1\\x1b[90ma\\x1b[90m1\\x1b[90mt\\x1b[90mt\\n\\x1b[37my\\x1b[90mu\\x1b[90mJ\\x1b[90mL\\x1b[90m?\\x1b[90m!\\x1b[90m>\\x1b[90mi\\x1b[90m*\\x1b[90m1\\x1b[90mz\\x1b[90mu\\x1b[90mL\\x1b[90m[\\x1b[90mI\\x1b[90m1\\x1b[90mj\\x1b[90mJ\\x1b[90mJ\\x1b[90mw\\x1b[37m3\\x1b[37m5\\x1b[37mX\\x1b[37m4\\x1b[37mX\\x1b[37mE\\x1b[37mP\\x1b[37mf\\x1b[90m7\\x1b[90mT\\x1b[90mL\\x1b[90m?\\x1b[90ml\\x1b[90m)\\x1b[90m>\\x1b[90mi\\x1b[90m}\\x1b[90mt\\x1b[90ma\\x1b[90m!\\x1b[90m?\\x1b[90m?\\x1b[90m[\\x1b[90mu\\x1b[37mF\\x1b[37mG\\x1b[37mb\\x1b[37mk\\x1b[37mG\\x1b[37mP\\x1b[37mZ\\x1b[37mq\\x1b[90mj\\x1b[90m1\\x1b[90m?\\x1b[90mI\\x1b[90mo\\x1b[90mL\\x1b[90mj\\x1b[90ma\\x1b[90ms\\x1b[90ml\\x1b[90mr\\x1b[90m[\\x1b[90mu\\x1b[37mF\\x1b[37m5\\x1b[37m6\\x1b[37mY\\x1b[37mb\\x1b[37mb\\x1b[37mb\\x1b[37mG\\x1b[37mk\\x1b[37mm\\x1b[90mI\\x1b[90m!\\x1b[90m*\\x1b[90mv\\x1b[90m|\\x1b[90m/\\x1b[90m\"\\x1b[90m\\\\\\x1b[90mx\\x1b[90m]\\x1b[90mu\\x1b[90mf\\x1b[90mu\\x1b[90me\\x1b[90mo\\x1b[37m4\\x1b[37mZ\\x1b[37mX\\x1b[37md\\x1b[37mE\\x1b[37mm\\x1b[90mJ\\x1b[90mw\\x1b[90ma\\x1b[90m{\\x1b[90m1\\x1b[90mj\\x1b[90mo\\x1b[90m?\\x1b[90m*\\x1b[90m)\\x1b[90m^\\x1b[90mc\\x1b[90mr\\x1b[90m7\\x1b[37my\\x1b[90mT\\x1b[90mn\\x1b[90mj\\x1b[90mT\\x1b[90mu\\x1b[90m[\\x1b[90mc\\x1b[90m>\\x1b[90m)\\n\\x1b[90mL\\x1b[90mL\\x1b[90m#\\x1b[90mu\\x1b[90m!\\x1b[90m]\\x1b[90m>\\x1b[90m)\\x1b[90mI\\x1b[90ma\\x1b[90mu\\x1b[90mt\\x1b[90mx\\x1b[90m[\\x1b[90mC\\x1b[37mf\\x1b[90mj\\x1b[90mj\\x1b[37m2\\x1b[37my\\x1b[37m2\\x1b[37m6\\x1b[37mZ\\x1b[37mG\\x1b[37mG\\x1b[37mP\\x1b[37mZ\\x1b[37mS\\x1b[37m2\\x1b[37m3\\x1b[90m?\\x1b[90mr\\x1b[90mi\\x1b[90m1\\x1b[90m[\\x1b[37my\\x1b[37m6\\x1b[37my\\x1b[90mw\\x1b[90m#\\x1b[90mT\\x1b[90mL\\x1b[90m1\\x1b[90mt\\x1b[37mm\\x1b[37mY\\x1b[37m&\\x1b[37m&\\x1b[37m&\\x1b[37mA\\x1b[37mA\\x1b[37mq\\x1b[90m[\\x1b[90m?\\x1b[90mo\\x1b[90m7\\x1b[90mT\\x1b[90mC\\x1b[37my\\x1b[37mf\\x1b[90mJ\\x1b[90mt\\x1b[90mt\\x1b[90m}\\x1b[90mt\\x1b[90mw\\x1b[37mg\\x1b[37mE\\x1b[37mk\\x1b[37mk\\x1b[37mA\\x1b[37mO\\x1b[37mk\\x1b[37mY\\x1b[37mS\\x1b[90mt\\x1b[90me\\x1b[90mo\\x1b[90m7\\x1b[90mt\\x1b[90ms\\x1b[90m)\\x1b[90m/\\x1b[90m\"\\x1b[90ml\\x1b[90m1\\x1b[37m6\\x1b[37mS\\x1b[37m5\\x1b[90mw\\x1b[37mO\\x1b[37mE\\x1b[37mg\\x1b[37m4\\x1b[37mZ\\x1b[37m4\\x1b[90mw\\x1b[37my\\x1b[90mt\\x1b[90mi\\x1b[90m\\\\\\x1b[90mi\\x1b[90mn\\x1b[90mz\\x1b[90m!\\x1b[90m)\\x1b[90m^\\x1b[90mr\\x1b[90m*\\x1b[90mj\\x1b[37mg\\x1b[37m2\\x1b[37m5\\x1b[37mF\\x1b[37m4\\x1b[90mt\\x1b[90m:\\x1b[90m;\\x1b[90m^\\x1b[90m^\\n\\x1b[90mz\\x1b[90mT\\x1b[90mw\\x1b[90mL\\x1b[90m1\\x1b[90mt\\x1b[90m)\\x1b[90m)\\x1b[90m?\\x1b[90mj\\x1b[37m5\\x1b[90mI\\x1b[90m<\\x1b[90mt\\x1b[90mu\\x1b[90mj\\x1b[90mJ\\x1b[90mL\\x1b[37mm\\x1b[37my\\x1b[37m3\\x1b[37mq\\x1b[37mb\\x1b[37mG\\x1b[37mG\\x1b[37mG\\x1b[37mP\\x1b[37mV\\x1b[37md\\x1b[37m4\\x1b[37md\\x1b[90mt\\x1b[90mj\\x1b[90mw\\x1b[90mo\\x1b[37m2\\x1b[37my\\x1b[90mn\\x1b[37my\\x1b[90mC\\x1b[90mC\\x1b[37my\\x1b[90mn\\x1b[37mE\\x1b[37mZ\\x1b[37mA\\x1b[37mU\\x1b[37m8\\x1b[37mk\\x1b[37mk\\x1b[37mO\\x1b[37mX\\x1b[37mh\\x1b[90m#\\x1b[90mC\\x1b[90mn\\x1b[90mw\\x1b[90mw\\x1b[90mJ\\x1b[37mp\\x1b[37mg\\x1b[90mf\\x1b[90mw\\x1b[90mL\\x1b[37mm\\x1b[37m4\\x1b[37mZ\\x1b[37mG\\x1b[37mk\\x1b[37mY\\x1b[37mk\\x1b[37mG\\x1b[37m8\\x1b[37m8\\x1b[37mG\\x1b[90mn\\x1b[90ma\\x1b[90mz\\x1b[90mo\\x1b[90mt\\x1b[90mu\\x1b[90m[\\x1b[90ms\\x1b[90m\"\\x1b[90mv\\x1b[37mg\\x1b[37mX\\x1b[37mX\\x1b[37m4\\x1b[37m6\\x1b[37m&\\x1b[37mE\\x1b[37mg\\x1b[37mE\\x1b[37mG\\x1b[37mg\\x1b[37my\\x1b[37my\\x1b[90m7\\x1b[90ms\\x1b[90m}\\x1b[90m)\\x1b[90m]\\x1b[90mJ\\x1b[90m7\\x1b[90mr\\x1b[90m=\\x1b[90ml\\x1b[90m]\\x1b[90m7\\x1b[37m6\\x1b[37m6\\x1b[37m3\\x1b[37mm\\x1b[37m4\\x1b[90m7\\x1b[90m;\\x1b[90m^\\x1b[90m=\\x1b[90m/\\n\\x1b[90mf\\x1b[90mf\\x1b[37mf\\x1b[90mu\\x1b[90m[\\x1b[90m1\\x1b[90m>\\x1b[90mv\\x1b[90m1\\x1b[90mz\\x1b[90mw\\x1b[90m*\\x1b[90m^\\x1b[90m\\\\\\x1b[90ms\\x1b[90mw\\x1b[37m4\\x1b[37my\\x1b[37m6\\x1b[37my\\x1b[37m3\\x1b[37m6\\x1b[37mG\\x1b[37mG\\x1b[37mG\\x1b[37mb\\x1b[37mb\\x1b[37m4\\x1b[37mP\\x1b[37mY\\x1b[37m&\\x1b[90mj\\x1b[37mg\\x1b[37mh\\x1b[90mT\\x1b[37md\\x1b[37mm\\x1b[90mC\\x1b[37md\\x1b[37m6\\x1b[37mF\\x1b[37mE\\x1b[37m5\\x1b[37mk\\x1b[37m&\\x1b[37mA\\x1b[37mU\\x1b[37mU\\x1b[37mZ\\x1b[37mP\\x1b[37mZ\\x1b[37mG\\x1b[37mk\\x1b[37mY\\x1b[37mY\\x1b[37mb\\x1b[37mk\\x1b[37mb\\x1b[37mZ\\x1b[37mb\\x1b[37mb\\x1b[37mY\\x1b[37mY\\x1b[37mb\\x1b[37mY\\x1b[37mZ\\x1b[37mZ\\x1b[37mP\\x1b[37mG\\x1b[37mP\\x1b[37mG\\x1b[37mg\\x1b[37mk\\x1b[37m&\\x1b[37mO\\x1b[37mS\\x1b[90mJ\\x1b[37m3\\x1b[37m2\\x1b[90mL\\x1b[37mg\\x1b[37m3\\x1b[90mC\\x1b[90m%\\x1b[90mv\\x1b[37mP\\x1b[37mk\\x1b[37mZ\\x1b[37mP\\x1b[37mh\\x1b[37mO\\x1b[37mP\\x1b[37mg\\x1b[37mX\\x1b[37mG\\x1b[37mX\\x1b[37m3\\x1b[37my\\x1b[90mL\\x1b[90mI\\x1b[90mL\\x1b[90mx\\x1b[90mI\\x1b[37m2\\x1b[90mT\\x1b[90m?\\x1b[90m/\\x1b[90m%\\x1b[90m[\\x1b[90me\\x1b[37mm\\x1b[37m2\\x1b[37mF\\x1b[37mm\\x1b[37md\\x1b[90mu\\x1b[90m_\\x1b[90m;\\x1b[90m:\\x1b[90m=\\n\\x1b[90mC\\x1b[90mT\\x1b[90mw\\x1b[90mj\\x1b[90m]\\x1b[90m1\\x1b[90m<\\x1b[90mx\\x1b[90m]\\x1b[90m7\\x1b[37my\\x1b[90m{\\x1b[90m;\\x1b[90m;\\x1b[90m/\\x1b[37mf\\x1b[37mP\\x1b[37m2\\x1b[37mm\\x1b[37my\\x1b[37my\\x1b[37mq\\x1b[37mY\\x1b[37mb\\x1b[37mb\\x1b[37mk\\x1b[37mb\\x1b[37mg\\x1b[37mk\\x1b[37mY\\x1b[37mO\\x1b[37mS\\x1b[37mG\\x1b[37mb\\x1b[37mg\\x1b[37mb\\x1b[37mG\\x1b[37mg\\x1b[37mk\\x1b[37mG\\x1b[37md\\x1b[37mO\\x1b[37mP\\x1b[37mA\\x1b[37mU\\x1b[37m8\\x1b[37m$\\x1b[37m$\\x1b[37m8\\x1b[37mP\\x1b[37mG\\x1b[37mk\\x1b[37m&\\x1b[37m&\\x1b[37m8\\x1b[37m&\\x1b[37m&\\x1b[37mA\\x1b[37m&\\x1b[37mA\\x1b[37m&\\x1b[37m8\\x1b[37mU\\x1b[37m&\\x1b[37m8\\x1b[37m&\\x1b[37m8\\x1b[37m&\\x1b[37m&\\x1b[37mk\\x1b[37mY\\x1b[37mZ\\x1b[37mA\\x1b[37m&\\x1b[37m&\\x1b[37mA\\x1b[37md\\x1b[37mE\\x1b[37mX\\x1b[37mp\\x1b[37mO\\x1b[37mX\\x1b[37mg\\x1b[37m5\\x1b[90mf\\x1b[37mE\\x1b[37mO\\x1b[37mb\\x1b[37mZ\\x1b[37mg\\x1b[37mA\\x1b[37mP\\x1b[37mX\\x1b[37mX\\x1b[37mG\\x1b[37mY\\x1b[37mp\\x1b[37m3\\x1b[90mJ\\x1b[90m}\\x1b[90mo\\x1b[90mx\\x1b[90m*\\x1b[37m5\\x1b[90m#\\x1b[90m1\\x1b[90m|\\x1b[90mi\\x1b[90m1\\x1b[90mt\\x1b[37m6\\x1b[37m6\\x1b[37m2\\x1b[37m2\\x1b[37mg\\x1b[37mF\\x1b[90ml\\x1b[90m>\\x1b[90m>\\x1b[90m>\\n\\x1b[90mJ\\x1b[90mC\\x1b[90mJ\\x1b[90mz\\x1b[90m]\\x1b[90m[\\x1b[90m<\\x1b[90ml\\x1b[90m1\\x1b[90m7\\x1b[37my\\x1b[90m7\\x1b[90m1\\x1b[90m1\\x1b[90ma\\x1b[90mC\\x1b[37m5\\x1b[37my\\x1b[37m5\\x1b[90mw\\x1b[37my\\x1b[37mS\\x1b[37mk\\x1b[37mb\\x1b[37mb\\x1b[37mk\\x1b[37mb\\x1b[37mE\\x1b[37mO\\x1b[37mk\\x1b[37mk\\x1b[37mP\\x1b[37mm\\x1b[37md\\x1b[37mg\\x1b[37mh\\x1b[37mE\\x1b[37mS\\x1b[37md\\x1b[37mE\\x1b[37mm\\x1b[37m4\\x1b[37mP\\x1b[37m8\\x1b[37m$\\x1b[37mU\\x1b[37m@\\x1b[37m@\\x1b[37m$\\x1b[37mb\\x1b[37mG\\x1b[37mb\\x1b[37m8\\x1b[37mD\\x1b[37mH\\x1b[37mH\\x1b[37mH\\x1b[37m@\\x1b[37m8\\x1b[37m8\\x1b[37m$\\x1b[37m$\\x1b[37mU\\x1b[37m@\\x1b[37mH\\x1b[37mK\\x1b[37mK\\x1b[37m@\\x1b[37mO\\x1b[37mk\\x1b[37mY\\x1b[37mG\\x1b[37mA\\x1b[37m8\\x1b[37m8\\x1b[37m&\\x1b[37md\\x1b[37mE\\x1b[37mg\\x1b[37mh\\x1b[37mX\\x1b[37m4\\x1b[37mg\\x1b[37mS\\x1b[37mh\\x1b[37mE\\x1b[37m8\\x1b[37mO\\x1b[37mO\\x1b[37mZ\\x1b[37mA\\x1b[37mG\\x1b[37mP\\x1b[37mG\\x1b[37mb\\x1b[37m&\\x1b[37mm\\x1b[37m3\\x1b[37m3\\x1b[90mj\\x1b[90m7\\x1b[90me\\x1b[90mz\\x1b[90mw\\x1b[90mu\\x1b[90ma\\x1b[90m<\\x1b[90m>\\x1b[90mt\\x1b[90m1\\x1b[37m2\\x1b[37mp\\x1b[37m2\\x1b[90mf\\x1b[37mg\\x1b[37mq\\x1b[37mV\\x1b[90mt\\x1b[90ma\\x1b[90mt\\n\\x1b[90mC\\x1b[37mf\\x1b[90mC\\x1b[90mt\\x1b[90m]\\x1b[90m[\\x1b[90m<\\x1b[90mr\\x1b[90mo\\x1b[90m7\\x1b[90mJ\\x1b[37my\\x1b[37mF\\x1b[37mq\\x1b[37mS\\x1b[37mq\\x1b[37m6\\x1b[37mS\\x1b[37mp\\x1b[37my\\x1b[37m2\\x1b[37m6\\x1b[37mP\\x1b[37mX\\x1b[37mG\\x1b[37mb\\x1b[37mZ\\x1b[37m4\\x1b[37mP\\x1b[37mP\\x1b[37mG\\x1b[37mb\\x1b[37mG\\x1b[37mb\\x1b[37mY\\x1b[37mY\\x1b[37mk\\x1b[37mY\\x1b[37mY\\x1b[37mk\\x1b[37mO\\x1b[37mY\\x1b[37mk\\x1b[37mA\\x1b[37mA\\x1b[37mY\\x1b[37mA\\x1b[37m&\\x1b[37m8\\x1b[37mY\\x1b[37mY\\x1b[37mO\\x1b[37mU\\x1b[37m@\\x1b[37m$\\x1b[37m@\\x1b[37m$\\x1b[37mK\\x1b[37m&\\x1b[37m&\\x1b[37m8\\x1b[37m8\\x1b[37m$\\x1b[37m$\\x1b[37m@\\x1b[37mK\\x1b[37m@\\x1b[37mH\\x1b[37mA\\x1b[37mY\\x1b[37mb\\x1b[37mX\\x1b[37mY\\x1b[37mA\\x1b[37mA\\x1b[37mA\\x1b[37m8\\x1b[37m&\\x1b[37m&\\x1b[37m&\\x1b[37mA\\x1b[37mA\\x1b[37mA\\x1b[37mO\\x1b[37mO\\x1b[37mO\\x1b[37mO\\x1b[37mk\\x1b[37mk\\x1b[37mY\\x1b[37mb\\x1b[37mP\\x1b[37mP\\x1b[37mP\\x1b[37mb\\x1b[37mk\\x1b[37mg\\x1b[37m3\\x1b[37m2\\x1b[90mw\\x1b[90mJ\\x1b[90m#\\x1b[90mJ\\x1b[90m#\\x1b[90mL\\x1b[90me\\x1b[90mv\\x1b[90m\\\\\\x1b[90mt\\x1b[90mt\\x1b[37m3\\x1b[37m2\\x1b[37my\\x1b[37m3\\x1b[37mm\\x1b[90mJ\\x1b[37m2\\x1b[37m3\\x1b[37my\\x1b[37my\\n\\x1b[90mJ\\x1b[90mC\\x1b[90mJ\\x1b[90ma\\x1b[90m[\\x1b[90m[\\x1b[90m<\\x1b[90m{\\x1b[90mj\\x1b[90mL\\x1b[37m5\\x1b[37mm\\x1b[37mp\\x1b[37mm\\x1b[37mq\\x1b[37mh\\x1b[37mV\\x1b[37mE\\x1b[37mq\\x1b[90mw\\x1b[37m2\\x1b[37mF\\x1b[37m4\\x1b[37mP\\x1b[37mE\\x1b[37mX\\x1b[37mG\\x1b[37mX\\x1b[37mE\\x1b[37mg\\x1b[37mE\\x1b[37mE\\x1b[37mg\\x1b[37mE\\x1b[37mX\\x1b[37mX\\x1b[37mP\\x1b[37mX\\x1b[37mG\\x1b[37mP\\x1b[37mb\\x1b[37mZ\\x1b[37mb\\x1b[37mb\\x1b[37mY\\x1b[37mY\\x1b[37mO\\x1b[37mA\\x1b[37m&\\x1b[37mk\\x1b[37mb\\x1b[37mk\\x1b[37m8\\x1b[37mD\\x1b[37mH\\x1b[37mD\\x1b[37mD\\x1b[37mD\\x1b[37mD\\x1b[37mD\\x1b[37mK\\x1b[37mB\\x1b[37mW\\x1b[37mB\\x1b[37mB\\x1b[37mD\\x1b[37mH\\x1b[37mD\\x1b[37mU\\x1b[37mA\\x1b[37mA\\x1b[37mb\\x1b[37mG\\x1b[37mA\\x1b[37m&\\x1b[37mA\\x1b[37mO\\x1b[37mY\\x1b[37mY\\x1b[37mG\\x1b[37mG\\x1b[37mP\\x1b[37mG\\x1b[37mX\\x1b[37mX\\x1b[37mg\\x1b[37mP\\x1b[37mP\\x1b[37mP\\x1b[37mP\\x1b[37mG\\x1b[37mZ\\x1b[37mb\\x1b[37mP\\x1b[37mX\\x1b[37mg\\x1b[37mh\\x1b[37m2\\x1b[37m5\\x1b[90mT\\x1b[90mC\\x1b[90mJ\\x1b[90mC\\x1b[90mT\\x1b[90mL\\x1b[90m7\\x1b[90mc\\x1b[90m|\\x1b[90m[\\x1b[90m1\\x1b[90mC\\x1b[37mm\\x1b[37mF\\x1b[37mF\\x1b[37mF\\x1b[37mF\\x1b[90m#\\x1b[90mj\\x1b[90mL\\x1b[90mu\\n\\x1b[90mf\\x1b[90mw\\x1b[90mJ\\x1b[90ma\\x1b[90m!\\x1b[90m]\\x1b[90m\\\\\\x1b[90m*\\x1b[90m7\\x1b[90mu\\x1b[90mC\\x1b[37mf\\x1b[37my\\x1b[37my\\x1b[37m2\\x1b[37m2\\x1b[37m2\\x1b[37m5\\x1b[37m5\\x1b[90mf\\x1b[37m3\\x1b[37m5\\x1b[37mE\\x1b[37mg\\x1b[37md\\x1b[37mP\\x1b[37mZ\\x1b[37mZ\\x1b[37mG\\x1b[37mG\\x1b[37mY\\x1b[37mY\\x1b[37mA\\x1b[37mA\\x1b[37mA\\x1b[37mk\\x1b[37mk\\x1b[37mO\\x1b[37m&\\x1b[37m&\\x1b[37m8\\x1b[37m&\\x1b[37m8\\x1b[37mO\\x1b[37mA\\x1b[37mO\\x1b[37m&\\x1b[37mO\\x1b[37mO\\x1b[37mY\\x1b[37mk\\x1b[37m&\\x1b[37mU\\x1b[37mH\\x1b[37mH\\x1b[37m&\\x1b[37mX\\x1b[37mm\\x1b[37mh\\x1b[37mp\\x1b[37m2\\x1b[37mm\\x1b[37mq\\x1b[37mp\\x1b[37mX\\x1b[37m&\\x1b[37mK\\x1b[37mD\\x1b[37mU\\x1b[37mk\\x1b[37m&\\x1b[37mG\\x1b[37mP\\x1b[37mk\\x1b[37m&\\x1b[37m&\\x1b[37mO\\x1b[37mk\\x1b[37mA\\x1b[37mk\\x1b[37mO\\x1b[37mA\\x1b[37mA\\x1b[37mO\\x1b[37mO\\x1b[37mk\\x1b[37mY\\x1b[37mk\\x1b[37mb\\x1b[37mG\\x1b[37mb\\x1b[37mb\\x1b[37mG\\x1b[37mG\\x1b[37mP\\x1b[37mE\\x1b[37mV\\x1b[37m3\\x1b[37m5\\x1b[90mC\\x1b[90mJ\\x1b[90mC\\x1b[37mf\\x1b[90mC\\x1b[90mJ\\x1b[90mj\\x1b[90mr\\x1b[90m\"\\x1b[90m?\\x1b[90m1\\x1b[90m#\\x1b[37mm\\x1b[37m6\\x1b[37mF\\x1b[37mp\\x1b[37m2\\x1b[37mF\\x1b[37m2\\x1b[37my\\x1b[37mf\\n\\x1b[90mC\\x1b[90mw\\x1b[90mj\\x1b[90m1\\x1b[90m?\\x1b[90mI\\x1b[90m<\\x1b[90m}\\x1b[90mz\\x1b[90mu\\x1b[90mw\\x1b[37m2\\x1b[37m6\\x1b[37m6\\x1b[37mq\\x1b[37mq\\x1b[37mm\\x1b[37m6\\x1b[37m5\\x1b[37my\\x1b[37m3\\x1b[37mF\\x1b[37mP\\x1b[37mV\\x1b[37mE\\x1b[37mX\\x1b[37mG\\x1b[37mb\\x1b[37mO\\x1b[37md\\x1b[90mJ\\x1b[90mw\\x1b[37my\\x1b[90mf\\x1b[37my\\x1b[37mO\\x1b[37m$\\x1b[37mb\\x1b[37my\\x1b[37m3\\x1b[37my\\x1b[37mf\\x1b[90mf\\x1b[37mb\\x1b[37m&\\x1b[37mY\\x1b[37mk\\x1b[37mk\\x1b[37mk\\x1b[37mb\\x1b[37mb\\x1b[37mY\\x1b[37m&\\x1b[37mW\\x1b[37m5\\x1b[90m[\\x1b[90mI\\x1b[90m{\\x1b[90m!\\x1b[90m}\\x1b[90mi\\x1b[90m[\\x1b[90mr\\x1b[90ml\\x1b[90m!\\x1b[90m]\\x1b[37mq\\x1b[37mM\\x1b[37mU\\x1b[37mb\\x1b[37mA\\x1b[37mZ\\x1b[37mE\\x1b[37mY\\x1b[37m&\\x1b[37mA\\x1b[37m$\\x1b[37m5\\x1b[90m1\\x1b[90me\\x1b[90me\\x1b[90m1\\x1b[37md\\x1b[37m@\\x1b[37mG\\x1b[90m!\\x1b[90m?\\x1b[90mI\\x1b[90m{\\x1b[90m#\\x1b[37mk\\x1b[37mZ\\x1b[37mZ\\x1b[37mX\\x1b[37m4\\x1b[37m4\\x1b[37md\\x1b[37m3\\x1b[37m5\\x1b[90mJ\\x1b[90m7\\x1b[90mj\\x1b[90mj\\x1b[90mJ\\x1b[90m#\\x1b[90mo\\x1b[90m?\\x1b[90m|\\x1b[90m*\\x1b[90m[\\x1b[90mu\\x1b[37mV\\x1b[37mm\\x1b[37mp\\x1b[37mF\\x1b[37m5\\x1b[37mp\\x1b[37mm\\x1b[37m2\\x1b[90m[\\n\\x1b[90mn\\x1b[90mu\\x1b[90mu\\x1b[90m]\\x1b[90mI\\x1b[90m}\\x1b[90m<\\x1b[90m?\\x1b[90mo\\x1b[90mL\\x1b[90mw\\x1b[90m1\\x1b[90m!\\x1b[90m!\\x1b[90m1\\x1b[90m]\\x1b[90m?\\x1b[90mo\\x1b[37mF\\x1b[37my\\x1b[37m5\\x1b[37m6\\x1b[37mZ\\x1b[37mX\\x1b[37mb\\x1b[37mZ\\x1b[37mY\\x1b[37mZ\\x1b[37mk\\x1b[37m5\\x1b[90m>\\x1b[90mv\\x1b[90m)\\x1b[90m>\\x1b[90mv\\x1b[37mG\\x1b[37mH\\x1b[37m4\\x1b[90mc\\x1b[90mr\\x1b[90mc\\x1b[90mx\\x1b[90mr\\x1b[37mh\\x1b[37mk\\x1b[37m@\\x1b[37m$\\x1b[37m@\\x1b[37m&\\x1b[37mk\\x1b[37mA\\x1b[37m&\\x1b[37m$\\x1b[37mN\\x1b[90m#\\x1b[90ml\\x1b[90m]\\x1b[90m]\\x1b[90m1\\x1b[90mT\\x1b[90mj\\x1b[90mu\\x1b[90mt\\x1b[90m1\\x1b[90m!\\x1b[90mx\\x1b[37m5\\x1b[37mM\\x1b[37mK\\x1b[37m8\\x1b[37m$\\x1b[37m&\\x1b[37mG\\x1b[37mY\\x1b[37mk\\x1b[37mk\\x1b[37mU\\x1b[90mf\\x1b[90mr\\x1b[90ms\\x1b[90mr\\x1b[90mx\\x1b[37mm\\x1b[37m@\\x1b[37mb\\x1b[90ml\\x1b[90mv\\x1b[90mv\\x1b[90m>\\x1b[90mt\\x1b[37mE\\x1b[37mX\\x1b[37mX\\x1b[37mg\\x1b[37mV\\x1b[37mV\\x1b[37m4\\x1b[37m2\\x1b[37mF\\x1b[90me\\x1b[90m;\\x1b[90m^\\x1b[90m;\\x1b[90m{\\x1b[90mT\\x1b[90mz\\x1b[90m1\\x1b[90m)\\x1b[90mr\\x1b[90m[\\x1b[90m7\\x1b[37mS\\x1b[37mq\\x1b[37m5\\x1b[37mm\\x1b[37mq\\x1b[37m6\\x1b[37m2\\x1b[90mo\\x1b[90m\"\\n\\x1b[90mj\\x1b[90mL\\x1b[90mo\\x1b[90m?\\x1b[90m*\\x1b[90m*\\x1b[90m\\\\\\x1b[90m}\\x1b[90mt\\x1b[90me\\x1b[90me\\x1b[90m|\\x1b[90m;\\x1b[90m=\\x1b[90m+\\x1b[90m+\\x1b[90m=\\x1b[90mc\\x1b[37my\\x1b[37m3\\x1b[37m2\\x1b[37mm\\x1b[37mZ\\x1b[37mP\\x1b[37mk\\x1b[37mk\\x1b[37mZ\\x1b[37mX\\x1b[37mX\\x1b[37m2\\x1b[90m%\\x1b[90mx\\x1b[90m{\\x1b[90ml\\x1b[90mr\\x1b[37mG\\x1b[37mH\\x1b[37mX\\x1b[90m{\\x1b[90m{\\x1b[90mI\\x1b[90m*\\x1b[90mI\\x1b[37md\\x1b[37m8\\x1b[37m$\\x1b[37mU\\x1b[37m@\\x1b[37mO\\x1b[37mk\\x1b[37m8\\x1b[37m8\\x1b[37m$\\x1b[37mW\\x1b[37m2\\x1b[90m]\\x1b[90m1\\x1b[90mt\\x1b[90mj\\x1b[90m#\\x1b[37m5\\x1b[90m#\\x1b[90m7\\x1b[90m[\\x1b[90mt\\x1b[90m[\\x1b[37mf\\x1b[37mN\\x1b[37mK\\x1b[37m&\\x1b[37m8\\x1b[37mA\\x1b[37mP\\x1b[37mk\\x1b[37mA\\x1b[37m&\\x1b[37m&\\x1b[37mF\\x1b[90mv\\x1b[90m*\\x1b[90mr\\x1b[90m%\\x1b[37m5\\x1b[37m@\\x1b[37mA\\x1b[90ms\\x1b[90mi\\x1b[90ml\\x1b[90m)\\x1b[90m!\\x1b[37mg\\x1b[37mE\\x1b[37mX\\x1b[37mZ\\x1b[37mb\\x1b[37mZ\\x1b[37mX\\x1b[37m5\\x1b[37mF\\x1b[90mL\\x1b[90m+\\x1b[90m=\\x1b[90m^\\x1b[90mx\\x1b[90mj\\x1b[90mz\\x1b[90m1\\x1b[90m\\\\\\x1b[90mx\\x1b[90m1\\x1b[90m1\\x1b[37mp\\x1b[37m5\\x1b[37m5\\x1b[37m2\\x1b[37m2\\x1b[37m5\\x1b[90mC\\x1b[90me\\x1b[90mv\\n\\x1b[90mT\\x1b[90mn\\x1b[90mu\\x1b[90m?\\x1b[90m*\\x1b[90m{\\x1b[90m\\\\\\x1b[90m}\\x1b[90me\\x1b[90m7\\x1b[90mt\\x1b[90m)\\x1b[90m+\\x1b[90m/\\x1b[90m\"\\x1b[90m\"\\x1b[90m\"\\x1b[90ml\\x1b[90mw\\x1b[37my\\x1b[37m2\\x1b[37mq\\x1b[37mY\\x1b[37mY\\x1b[37mY\\x1b[37mZ\\x1b[37mY\\x1b[37mG\\x1b[37mb\\x1b[37mp\\x1b[90mv\\x1b[90m)\\x1b[90ms\\x1b[90mi\\x1b[90mx\\x1b[37mP\\x1b[37mH\\x1b[37mP\\x1b[90ml\\x1b[90mc\\x1b[90mI\\x1b[90m{\\x1b[90ms\\x1b[37m4\\x1b[37m8\\x1b[37m&\\x1b[37m8\\x1b[37m8\\x1b[37mb\\x1b[37mY\\x1b[37mk\\x1b[37mO\\x1b[37m8\\x1b[37mM\\x1b[90mw\\x1b[90m?\\x1b[90m{\\x1b[90ml\\x1b[90ml\\x1b[90m[\\x1b[37mP\\x1b[90mL\\x1b[90mc\\x1b[90mi\\x1b[90m1\\x1b[90m{\\x1b[90m#\\x1b[37mN\\x1b[37mH\\x1b[37mO\\x1b[37m&\\x1b[37mk\\x1b[37mG\\x1b[37mO\\x1b[37mA\\x1b[37m&\\x1b[37mA\\x1b[37mS\\x1b[90m>\\x1b[90ml\\x1b[90ml\\x1b[90mi\\x1b[90mw\\x1b[37m$\\x1b[37m&\\x1b[90m!\\x1b[90m>\\x1b[90mr\\x1b[90mv\\x1b[90m*\\x1b[37m4\\x1b[37m4\\x1b[37mP\\x1b[37mZ\\x1b[37mb\\x1b[37m4\\x1b[37mg\\x1b[37m6\\x1b[37m5\\x1b[90mJ\\x1b[90m\"\\x1b[90m^\\x1b[90m^\\x1b[90m<\\x1b[90me\\x1b[90me\\x1b[90m1\\x1b[90m<\\x1b[90mi\\x1b[90m[\\x1b[90m[\\x1b[90mJ\\x1b[90mw\\x1b[90mw\\x1b[37mf\\x1b[90mJ\\x1b[90mT\\x1b[90mz\\x1b[90mo\\x1b[90mc\\n\\x1b[90mL\\x1b[90mo\\x1b[90mL\\x1b[90mI\\x1b[90m{\\x1b[90mr\\x1b[90m\\\\\\x1b[90m]\\x1b[90mt\\x1b[90m7\\x1b[90me\\x1b[90m|\\x1b[90m=\\x1b[90m/\\x1b[90m\"\\x1b[90m\"\\x1b[90m/\\x1b[90mc\\x1b[90mC\\x1b[37m3\\x1b[37m5\\x1b[37mm\\x1b[37mY\\x1b[37mZ\\x1b[37mG\\x1b[37mZ\\x1b[37mY\\x1b[37mZ\\x1b[37mG\\x1b[37m5\\x1b[90mi\\x1b[90mi\\x1b[90mr\\x1b[90mi\\x1b[90mx\\x1b[37mP\\x1b[37mH\\x1b[37mZ\\x1b[90ml\\x1b[90mx\\x1b[90mI\\x1b[90m{\\x1b[90mr\\x1b[37mh\\x1b[37m&\\x1b[37m&\\x1b[37mU\\x1b[37mk\\x1b[37mY\\x1b[37mO\\x1b[37mk\\x1b[37mk\\x1b[37m&\\x1b[37mM\\x1b[37m2\\x1b[90mo\\x1b[90m]\\x1b[90ml\\x1b[90mr\\x1b[90m1\\x1b[37mG\\x1b[37my\\x1b[90m!\\x1b[90ml\\x1b[90m7\\x1b[90m1\\x1b[90mu\\x1b[37mW\\x1b[37mD\\x1b[37mA\\x1b[37m8\\x1b[37m&\\x1b[37mX\\x1b[37mO\\x1b[37m8\\x1b[37m&\\x1b[37m&\\x1b[37m4\\x1b[90mv\\x1b[90ml\\x1b[90ml\\x1b[90m)\\x1b[90mu\\x1b[37mU\\x1b[37mU\\x1b[90m1\\x1b[90m)\\x1b[90mc\\x1b[90m)\\x1b[90mc\\x1b[37mg\\x1b[37mg\\x1b[37mG\\x1b[37m4\\x1b[37mG\\x1b[37mP\\x1b[37mG\\x1b[37mp\\x1b[37m2\\x1b[90mf\\x1b[90m\\\\\\x1b[90m=\\x1b[90m+\\x1b[90m|\\x1b[90mo\\x1b[90mz\\x1b[90me\\x1b[90mi\\x1b[90m<\\x1b[90m?\\x1b[90m?\\x1b[90mj\\x1b[90mC\\x1b[90mT\\x1b[37mf\\x1b[90mu\\x1b[90mL\\x1b[90mo\\x1b[90mj\\x1b[90m*\\n\\x1b[90mL\\x1b[90mL\\x1b[90mT\\x1b[90m{\\x1b[90ms\\x1b[90ml\\x1b[90m\\\\\\x1b[90m?\\x1b[90m7\\x1b[90mj\\x1b[90mt\\x1b[90m/\\x1b[90m;\\x1b[90m+\\x1b[90m/\\x1b[90m+\\x1b[90m=\\x1b[90mx\\x1b[37mf\\x1b[37my\\x1b[37m2\\x1b[37m6\\x1b[37mG\\x1b[37mY\\x1b[37mY\\x1b[37mY\\x1b[37mZ\\x1b[37mP\\x1b[37mZ\\x1b[37m2\\x1b[90ml\\x1b[90mr\\x1b[90mI\\x1b[90m{\\x1b[90m*\\x1b[37mX\\x1b[37mK\\x1b[37mb\\x1b[90m?\\x1b[90mI\\x1b[90mt\\x1b[90m1\\x1b[90m]\\x1b[37m4\\x1b[37m8\\x1b[37mU\\x1b[37mA\\x1b[37mA\\x1b[37mA\\x1b[37mO\\x1b[37mA\\x1b[37m&\\x1b[37mU\\x1b[37mM\\x1b[37m6\\x1b[90m7\\x1b[90m1\\x1b[90ml\\x1b[90ml\\x1b[90m!\\x1b[37mX\\x1b[37m2\\x1b[37mf\\x1b[90m!\\x1b[90mz\\x1b[90mo\\x1b[90mn\\x1b[37mW\\x1b[37mB\\x1b[37m&\\x1b[37m&\\x1b[37m&\\x1b[37mG\\x1b[37mY\\x1b[37mU\\x1b[37m8\\x1b[37mO\\x1b[37mb\\x1b[37my\\x1b[37my\\x1b[37m2\\x1b[37my\\x1b[37mq\\x1b[37m&\\x1b[37m8\\x1b[37mg\\x1b[37m2\\x1b[37m5\\x1b[37m5\\x1b[37mF\\x1b[37mg\\x1b[37md\\x1b[37mZ\\x1b[37mb\\x1b[37mG\\x1b[37mX\\x1b[37mb\\x1b[37mm\\x1b[37m2\\x1b[37m3\\x1b[90ma\\x1b[90m?\\x1b[90m[\\x1b[90m[\\x1b[90m7\\x1b[90mz\\x1b[90ma\\x1b[90m%\\x1b[90m)\\x1b[90m*\\x1b[90mI\\x1b[90m7\\x1b[90m#\\x1b[90mz\\x1b[90mT\\x1b[90mu\\x1b[90mu\\x1b[90me\\x1b[90me\\x1b[90ma\\n\\x1b[90m1\\x1b[90mj\\x1b[90mn\\x1b[90m*\\x1b[90mr\\x1b[90mc\\x1b[90m>\\x1b[90m]\\x1b[90m7\\x1b[90mn\\x1b[90mj\\x1b[90m1\\x1b[90m1\\x1b[90ma\\x1b[90mo\\x1b[90m7\\x1b[90mo\\x1b[90m7\\x1b[90mJ\\x1b[37m2\\x1b[37m5\\x1b[37mq\\x1b[37mb\\x1b[37mY\\x1b[37mb\\x1b[37mA\\x1b[37mY\\x1b[37mO\\x1b[37mY\\x1b[37mX\\x1b[37mV\\x1b[37md\\x1b[37mE\\x1b[37mg\\x1b[37mP\\x1b[37mk\\x1b[37m$\\x1b[37mk\\x1b[37mZ\\x1b[37mY\\x1b[37mY\\x1b[37mY\\x1b[37mA\\x1b[37mO\\x1b[37m8\\x1b[37m&\\x1b[37mA\\x1b[37mU\\x1b[37mU\\x1b[37mA\\x1b[37mA\\x1b[37mA\\x1b[37m8\\x1b[37mM\\x1b[37mS\\x1b[90mz\\x1b[90ma\\x1b[90ms\\x1b[90mr\\x1b[90mI\\x1b[37m4\\x1b[37mS\\x1b[90mo\\x1b[90m}\\x1b[37mh\\x1b[37mG\\x1b[37mp\\x1b[37mD\\x1b[37mB\\x1b[37mA\\x1b[37mO\\x1b[37mk\\x1b[37mb\\x1b[37mO\\x1b[37mA\\x1b[37m8\\x1b[37m&\\x1b[37m8\\x1b[37m@\\x1b[37m8\\x1b[37m$\\x1b[37m8\\x1b[37mA\\x1b[37mY\\x1b[37mk\\x1b[37mb\\x1b[37m8\\x1b[37mk\\x1b[37m&\\x1b[37mA\\x1b[37mY\\x1b[37mb\\x1b[37mb\\x1b[37mb\\x1b[37mg\\x1b[37mX\\x1b[37mg\\x1b[37mh\\x1b[37m5\\x1b[37m2\\x1b[90mT\\x1b[90me\\x1b[90mj\\x1b[90mu\\x1b[90mj\\x1b[90me\\x1b[90m1\\x1b[90ml\\x1b[90m\\\\\\x1b[90m*\\x1b[90m1\\x1b[90mL\\x1b[90mC\\x1b[90mL\\x1b[90mn\\x1b[90mu\\x1b[90mj\\x1b[90mj\\x1b[90mo\\x1b[90mL\\n\\x1b[90mt\\x1b[90mo\\x1b[90mt\\x1b[90ms\\x1b[90mr\\x1b[90mx\\x1b[90m<\\x1b[90m!\\x1b[90m1\\x1b[90mz\\x1b[90mJ\\x1b[37mf\\x1b[90m#\\x1b[37my\\x1b[37m5\\x1b[37m3\\x1b[90mf\\x1b[90m#\\x1b[90mC\\x1b[37mF\\x1b[37m6\\x1b[37mh\\x1b[37mY\\x1b[37mY\\x1b[37mG\\x1b[37mX\\x1b[37mk\\x1b[37mX\\x1b[37mX\\x1b[37mY\\x1b[37mG\\x1b[37mG\\x1b[37mA\\x1b[37mG\\x1b[37mY\\x1b[37mY\\x1b[37mZ\\x1b[37mY\\x1b[37mU\\x1b[37mA\\x1b[37m&\\x1b[37m8\\x1b[37mU\\x1b[37mO\\x1b[37mO\\x1b[37mO\\x1b[37m8\\x1b[37m8\\x1b[37mU\\x1b[37m8\\x1b[37mU\\x1b[37m$\\x1b[37m$\\x1b[37mB\\x1b[37mY\\x1b[90mu\\x1b[90mn\\x1b[37m2\\x1b[37mm\\x1b[37mg\\x1b[37mb\\x1b[37mZ\\x1b[37mg\\x1b[37mF\\x1b[90mw\\x1b[37my\\x1b[37m2\\x1b[37mH\\x1b[37mB\\x1b[37m8\\x1b[37m&\\x1b[37mA\\x1b[37mb\\x1b[37mb\\x1b[37mb\\x1b[37mk\\x1b[37mk\\x1b[37mY\\x1b[37mA\\x1b[37mG\\x1b[37mk\\x1b[37mb\\x1b[37mZ\\x1b[37mX\\x1b[37mG\\x1b[37mE\\x1b[37mG\\x1b[37mE\\x1b[37mX\\x1b[37mX\\x1b[37mE\\x1b[37mP\\x1b[37mE\\x1b[37mg\\x1b[37md\\x1b[37mV\\x1b[37md\\x1b[37mm\\x1b[37mp\\x1b[37mp\\x1b[90mC\\x1b[90ma\\x1b[90m7\\x1b[90m7\\x1b[90mn\\x1b[90mj\\x1b[90me\\x1b[90m}\\x1b[90mi\\x1b[90mI\\x1b[90mu\\x1b[90m#\\x1b[90mu\\x1b[90mL\\x1b[90mL\\x1b[90me\\x1b[90mt\\x1b[90mt\\x1b[90mt\\x1b[90ma\\n\\x1b[90m]\\x1b[90m1\\x1b[90m?\\x1b[90m*\\x1b[90mI\\x1b[90mI\\x1b[90mi\\x1b[90m*\\x1b[90m[\\x1b[90me\\x1b[90mz\\x1b[90mL\\x1b[90ma\\x1b[90mo\\x1b[90mn\\x1b[90mT\\x1b[90mn\\x1b[90mn\\x1b[37m2\\x1b[37mq\\x1b[37mh\\x1b[37mh\\x1b[37mE\\x1b[37m4\\x1b[37m4\\x1b[37mE\\x1b[37mP\\x1b[37mP\\x1b[37mZ\\x1b[37mG\\x1b[37mP\\x1b[37mP\\x1b[37mY\\x1b[37mG\\x1b[37mP\\x1b[37mZ\\x1b[37mY\\x1b[37mk\\x1b[37mO\\x1b[37mY\\x1b[37mk\\x1b[37mk\\x1b[37mY\\x1b[37mZ\\x1b[37mE\\x1b[37mk\\x1b[37mO\\x1b[37m&\\x1b[37m8\\x1b[37mU\\x1b[37mK\\x1b[37mK\\x1b[37mK\\x1b[37mD\\x1b[37m$\\x1b[90mw\\x1b[90mC\\x1b[37mq\\x1b[37mE\\x1b[37mP\\x1b[37mP\\x1b[37mE\\x1b[37mg\\x1b[37mg\\x1b[37mF\\x1b[37mS\\x1b[37mg\\x1b[37mK\\x1b[37mB\\x1b[37m$\\x1b[37mU\\x1b[37m8\\x1b[37mO\\x1b[37mZ\\x1b[37mb\\x1b[37mP\\x1b[37mE\\x1b[37mE\\x1b[37mE\\x1b[37m3\\x1b[37m2\\x1b[37m3\\x1b[37mf\\x1b[37mV\\x1b[37mh\\x1b[37md\\x1b[37mF\\x1b[90mu\\x1b[90mL\\x1b[90mu\\x1b[37m3\\x1b[37mh\\x1b[37mg\\x1b[37m6\\x1b[37m2\\x1b[37my\\x1b[37m5\\x1b[37m5\\x1b[37my\\x1b[37m2\\x1b[90m7\\x1b[90mc\\x1b[90m{\\x1b[90m[\\x1b[90mn\\x1b[90mu\\x1b[90mj\\x1b[90m1\\x1b[90m*\\x1b[90m1\\x1b[90mL\\x1b[90mu\\x1b[90mn\\x1b[90mu\\x1b[90mz\\x1b[90mz\\x1b[90mL\\x1b[90mj\\x1b[90mn\\x1b[90mT\\n\\x1b[90m[\\x1b[90m{\\x1b[90ms\\x1b[90ms\\x1b[90m*\\x1b[90ml\\x1b[90m<\\x1b[90mc\\x1b[90m{\\x1b[90m!\\x1b[90me\\x1b[90m1\\x1b[90mc\\x1b[90m%\\x1b[90ml\\x1b[90mc\\x1b[90mI\\x1b[90mt\\x1b[90mJ\\x1b[37m6\\x1b[37m6\\x1b[37m6\\x1b[37mm\\x1b[37m5\\x1b[37m6\\x1b[37mp\\x1b[37mm\\x1b[37mg\\x1b[37mE\\x1b[37mG\\x1b[37m2\\x1b[37my\\x1b[37my\\x1b[90mw\\x1b[37mm\\x1b[37mY\\x1b[37mb\\x1b[37mk\\x1b[37mq\\x1b[90mJ\\x1b[37mf\\x1b[37mf\\x1b[37mF\\x1b[37mG\\x1b[90mf\\x1b[37m4\\x1b[37mY\\x1b[37m&\\x1b[37m@\\x1b[37mK\\x1b[37mW\\x1b[37mB\\x1b[37mW\\x1b[37mB\\x1b[37mB\\x1b[37mD\\x1b[37mD\\x1b[37mD\\x1b[37mD\\x1b[37mD\\x1b[37mD\\x1b[37mB\\x1b[37mB\\x1b[37mB\\x1b[37mB\\x1b[37mB\\x1b[37mB\\x1b[37mB\\x1b[37mB\\x1b[37mB\\x1b[37mB\\x1b[37mB\\x1b[37mB\\x1b[37mB\\x1b[37mD\\x1b[37mD\\x1b[37m$\\x1b[37m&\\x1b[37mA\\x1b[37mg\\x1b[37mS\\x1b[37m2\\x1b[90m#\\x1b[37mX\\x1b[37mk\\x1b[37mY\\x1b[37mP\\x1b[37m4\\x1b[37m4\\x1b[37md\\x1b[37mG\\x1b[37mk\\x1b[37mk\\x1b[37mk\\x1b[37mY\\x1b[37mb\\x1b[37mY\\x1b[37mY\\x1b[37mk\\x1b[37mk\\x1b[37mY\\x1b[37mZ\\x1b[37mk\\x1b[37mY\\x1b[37mY\\x1b[37mk\\x1b[37mO\\x1b[37mk\\x1b[37mk\\x1b[37mO\\x1b[37mO\\x1b[37mk\\x1b[37mA\\x1b[37mA\\x1b[37mA\\x1b[37mO\\x1b[37mA\\x1b[37m&\\x1b[37m&\\x1b[37m&\\n\\x1b[90m#\\x1b[90mu\\x1b[90mC\\x1b[37my\\x1b[37m2\\x1b[37m6\\x1b[37m6\\x1b[37mS\\x1b[37m4\\x1b[37m4\\x1b[37m4\\x1b[37mE\\x1b[37mE\\x1b[37md\\x1b[37mE\\x1b[37mg\\x1b[37mX\\x1b[37mX\\x1b[37mb\\x1b[37mY\\x1b[37mY\\x1b[37mZ\\x1b[37mb\\x1b[37mb\\x1b[37mb\\x1b[37mb\\x1b[37mZ\\x1b[37mY\\x1b[37mO\\x1b[37mU\\x1b[37mG\\x1b[37mX\\x1b[37mP\\x1b[37mP\\x1b[37mO\\x1b[37mK\\x1b[37m@\\x1b[37mK\\x1b[37m8\\x1b[37mA\\x1b[37m&\\x1b[37m8\\x1b[37mU\\x1b[37mK\\x1b[37m&\\x1b[37m$\\x1b[37mB\\x1b[37mD\\x1b[37mH\\x1b[37mH\\x1b[37mK\\x1b[37mK\\x1b[37mK\\x1b[37mK\\x1b[37mH\\x1b[37mK\\x1b[37mK\\x1b[37m@\\x1b[37mK\\x1b[37mU\\x1b[37mU\\x1b[37mU\\x1b[37m$\\x1b[37m$\\x1b[37m$\\x1b[37mU\\x1b[37m$\\x1b[37m@\\x1b[37mH\\x1b[37mH\\x1b[37mK\\x1b[37mH\\x1b[37mD\\x1b[37mD\\x1b[37mD\\x1b[37mD\\x1b[37mD\\x1b[37mD\\x1b[37mD\\x1b[37mB\\x1b[37mB\\x1b[37mN\\x1b[37mW\\x1b[37mW\\x1b[37mW\\x1b[37mW\\x1b[37mW\\x1b[37mN\\x1b[37mN\\x1b[37mN\\x1b[37mW\\x1b[37mW\\x1b[37mW\\x1b[37mW\\x1b[37mW\\x1b[37mW\\x1b[37mW\\x1b[37mW\\x1b[37mW\\x1b[37mW\\x1b[37mW\\x1b[37mW\\x1b[37mW\\x1b[37mW\\x1b[37mW\\x1b[37mW\\x1b[37mW\\x1b[37mW\\x1b[37mW\\x1b[37mB\\x1b[37mB\\x1b[37mB\\x1b[37mB\\x1b[37mB\\x1b[37mB\\x1b[37mB\\x1b[37mB\\x1b[37mB\\x1b[37mB\\x1b[37mB\\n\\x1b[37m8\\x1b[37m8\\x1b[37m8\\x1b[37mU\\x1b[37m$\\x1b[37m@\\x1b[37mK\\x1b[37mD\\x1b[37mB\\x1b[37mB\\x1b[37mB\\x1b[37mB\\x1b[37mW\\x1b[37mW\\x1b[37mW\\x1b[37mW\\x1b[37mD\\x1b[37mW\\x1b[37mW\\x1b[37mW\\x1b[37mW\\x1b[37mW\\x1b[37mW\\x1b[37mW\\x1b[37mW\\x1b[37mW\\x1b[37mW\\x1b[37mW\\x1b[37mW\\x1b[37mW\\x1b[37mN\\x1b[37mN\\x1b[37mN\\x1b[37mN\\x1b[37mW\\x1b[37mW\\x1b[37mW\\x1b[37mW\\x1b[37mW\\x1b[37mW\\x1b[37mW\\x1b[37mW\\x1b[37mW\\x1b[37mW\\x1b[37mW\\x1b[37mW\\x1b[37mW\\x1b[37mB\\x1b[37mB\\x1b[37mB\\x1b[37mB\\x1b[37mB\\x1b[37mB\\x1b[37mB\\x1b[37mB\\x1b[37mB\\x1b[37mB\\x1b[37mB\\x1b[37mW\\x1b[37mB\\x1b[37mB\\x1b[37mB\\x1b[37mB\\x1b[37mB\\x1b[37mB\\x1b[37mB\\x1b[37mB\\x1b[37mW\\x1b[37mW\\x1b[37mW\\x1b[37mW\\x1b[37mW\\x1b[37mW\\x1b[37mW\\x1b[37mW\\x1b[37mW\\x1b[37mW\\x1b[37mW\\x1b[37mW\\x1b[37mW\\x1b[37mW\\x1b[37mB\\x1b[37mB\\x1b[37mW\\x1b[37mB\\x1b[37mB\\x1b[37mB\\x1b[37mB\\x1b[37mB\\x1b[37mB\\x1b[37mB\\x1b[37mB\\x1b[37mB\\x1b[37mB\\x1b[37mB\\x1b[37mB\\x1b[37mB\\x1b[37mB\\x1b[37mB\\x1b[37mB\\x1b[37mB\\x1b[37mB\\x1b[37mB\\x1b[37mB\\x1b[37mB\\x1b[37mD\\x1b[37mB\\x1b[37mD\\x1b[37mD\\x1b[37mD\\x1b[37mD\\x1b[37mD\\x1b[37mD\\x1b[37mD\\x1b[37mD\\x1b[37mD\\x1b[37mD\\x1b[37mD\\x1b[37mD\\x1b[37mH\\n\\x1b[37mK\\x1b[37mK\\x1b[37mH\\x1b[37mD\\x1b[37mH\\x1b[37m@\\x1b[37mK\\x1b[37mH\\x1b[37mH\\x1b[37mD\\x1b[37mD\\x1b[37mD\\x1b[37mD\\x1b[37mD\\x1b[37mB\\x1b[37mB\\x1b[37mD\\x1b[37mB\\x1b[37mB\\x1b[37mB\\x1b[37mB\\x1b[37mB\\x1b[37mB\\x1b[37mB\\x1b[37mB\\x1b[37mB\\x1b[37mB\\x1b[37mB\\x1b[37mB\\x1b[37mB\\x1b[37mB\\x1b[37mB\\x1b[37mB\\x1b[37mB\\x1b[37mB\\x1b[37mB\\x1b[37mB\\x1b[37mB\\x1b[37mB\\x1b[37mB\\x1b[37mB\\x1b[37mB\\x1b[37mB\\x1b[37mB\\x1b[37mB\\x1b[37mW\\x1b[37mB\\x1b[37mB\\x1b[37mW\\x1b[37mW\\x1b[37mW\\x1b[37mB\\x1b[37mW\\x1b[37mW\\x1b[37mW\\x1b[37mW\\x1b[37mW\\x1b[37mW\\x1b[37mW\\x1b[37mW\\x1b[37mW\\x1b[37mW\\x1b[37mW\\x1b[37mW\\x1b[37mW\\x1b[37mW\\x1b[37mW\\x1b[37mW\\x1b[37mB\\x1b[37mW\\x1b[37mW\\x1b[37mW\\x1b[37mW\\x1b[37mW\\x1b[37mW\\x1b[37mW\\x1b[37mW\\x1b[37mB\\x1b[37mB\\x1b[37mB\\x1b[37mB\\x1b[37mB\\x1b[37mB\\x1b[37mB\\x1b[37mB\\x1b[37mB\\x1b[37mB\\x1b[37mB\\x1b[37mB\\x1b[37mB\\x1b[37mB\\x1b[37mB\\x1b[37mB\\x1b[37mB\\x1b[37mB\\x1b[37mB\\x1b[37mB\\x1b[37mB\\x1b[37mB\\x1b[37mB\\x1b[37mB\\x1b[37mB\\x1b[37mB\\x1b[37mD\\x1b[37mD\\x1b[37mB\\x1b[37mB\\x1b[37mB\\x1b[37mD\\x1b[37mD\\x1b[37mD\\x1b[37mD\\x1b[37mD\\x1b[37mH\\x1b[37m@\\x1b[37mD\\x1b[37mD\\x1b[37mD\\x1b[37mD\\x1b[37mH\\n\\x1b[37mK\\x1b[37mK\\x1b[37m@\\x1b[37m@\\x1b[37mK\\x1b[37mK\\x1b[37mK\\x1b[37mK\\x1b[37mK\\x1b[37mH\\x1b[37mH\\x1b[37mD\\x1b[37mD\\x1b[37mD\\x1b[37mD\\x1b[37mD\\x1b[37mB\\x1b[37mB\\x1b[37mB\\x1b[37mB\\x1b[37mB\\x1b[37mB\\x1b[37mB\\x1b[37mB\\x1b[37mB\\x1b[37mB\\x1b[37mB\\x1b[37mB\\x1b[37mB\\x1b[37mB\\x1b[37mB\\x1b[37mB\\x1b[37mB\\x1b[37mB\\x1b[37mB\\x1b[37mB\\x1b[37mB\\x1b[37mB\\x1b[37mB\\x1b[37mB\\x1b[37mB\\x1b[37mB\\x1b[37mB\\x1b[37mB\\x1b[37mW\\x1b[37mW\\x1b[37mW\\x1b[37mB\\x1b[37mW\\x1b[37mW\\x1b[37mW\\x1b[37mW\\x1b[37mW\\x1b[37mW\\x1b[37mW\\x1b[37mW\\x1b[37mW\\x1b[37mW\\x1b[37mW\\x1b[37mW\\x1b[37mB\\x1b[37mW\\x1b[37mW\\x1b[37mW\\x1b[37mW\\x1b[37mW\\x1b[37mW\\x1b[37mW\\x1b[37mW\\x1b[37mW\\x1b[37mW\\x1b[37mW\\x1b[37mB\\x1b[37mB\\x1b[37mB\\x1b[37mW\\x1b[37mB\\x1b[37mB\\x1b[37mB\\x1b[37mB\\x1b[37mB\\x1b[37mB\\x1b[37mB\\x1b[37mB\\x1b[37mB\\x1b[37mB\\x1b[37mB\\x1b[37mB\\x1b[37mB\\x1b[37mB\\x1b[37mB\\x1b[37mB\\x1b[37mB\\x1b[37mB\\x1b[37mB\\x1b[37mB\\x1b[37mB\\x1b[37mB\\x1b[37mB\\x1b[37mB\\x1b[37mK\\x1b[37mD\\x1b[37mD\\x1b[37mB\\x1b[37mB\\x1b[37mD\\x1b[37mD\\x1b[37mD\\x1b[37mD\\x1b[37mD\\x1b[37mD\\x1b[37mD\\x1b[37mH\\x1b[37m$\\x1b[37mG\\x1b[37m4\\x1b[37m&\\x1b[37mD\\x1b[37mD\\x1b[37mH\\n\\x1b[37m$\\x1b[37m$\\x1b[37mU\\x1b[37mU\\x1b[37m$\\x1b[37m@\\x1b[37m@\\x1b[37mK\\x1b[37mK\\x1b[37mK\\x1b[37m@\\x1b[37mH\\x1b[37mH\\x1b[37mD\\x1b[37mD\\x1b[37mD\\x1b[37mD\\x1b[37mD\\x1b[37mB\\x1b[37mD\\x1b[37mB\\x1b[37mB\\x1b[37mB\\x1b[37mB\\x1b[37mB\\x1b[37mB\\x1b[37mB\\x1b[37mB\\x1b[37mB\\x1b[37mB\\x1b[37mB\\x1b[37mB\\x1b[37mB\\x1b[37mB\\x1b[37mB\\x1b[37mB\\x1b[37mB\\x1b[37mB\\x1b[37mB\\x1b[37mB\\x1b[37mB\\x1b[37mB\\x1b[37mB\\x1b[37mB\\x1b[37mB\\x1b[37mB\\x1b[37mB\\x1b[37mB\\x1b[37mB\\x1b[37mW\\x1b[37mB\\x1b[37mB\\x1b[37mB\\x1b[37mB\\x1b[37mB\\x1b[37mB\\x1b[37mB\\x1b[37mW\\x1b[37mW\\x1b[37mW\\x1b[37mW\\x1b[37mW\\x1b[37mB\\x1b[37mB\\x1b[37mW\\x1b[37mB\\x1b[37mB\\x1b[37mB\\x1b[37mB\\x1b[37mW\\x1b[37mW\\x1b[37mB\\x1b[37mB\\x1b[37mB\\x1b[37mB\\x1b[37mW\\x1b[37mB\\x1b[37mB\\x1b[37mB\\x1b[37mB\\x1b[37mB\\x1b[37mB\\x1b[37mB\\x1b[37mB\\x1b[37mB\\x1b[37mD\\x1b[37mB\\x1b[37mB\\x1b[37mB\\x1b[37mB\\x1b[37mB\\x1b[37mB\\x1b[37mB\\x1b[37mB\\x1b[37mB\\x1b[37mB\\x1b[37mB\\x1b[37mB\\x1b[37mB\\x1b[37mB\\x1b[37mU\\x1b[37mk\\x1b[37mO\\x1b[37mH\\x1b[37mB\\x1b[37mD\\x1b[37mD\\x1b[37mD\\x1b[37mB\\x1b[37mD\\x1b[37mD\\x1b[37mD\\x1b[37mD\\x1b[37mD\\x1b[37mD\\x1b[37m@\\x1b[37mK\\x1b[37mD\\x1b[37mD\\x1b[37mD\\n\\x1b[37m@\\x1b[37m$\\x1b[37m$\\x1b[37m$\\x1b[37mK\\x1b[37mK\\x1b[37m@\\x1b[37mK\\x1b[37mK\\x1b[37mK\\x1b[37mK\\x1b[37mK\\x1b[37mK\\x1b[37mH\\x1b[37mH\\x1b[37mD\\x1b[37mH\\x1b[37mD\\x1b[37mB\\x1b[37mD\\x1b[37mB\\x1b[37mB\\x1b[37mB\\x1b[37mB\\x1b[37mB\\x1b[37mB\\x1b[37mB\\x1b[37mB\\x1b[37mB\\x1b[37mB\\x1b[37mB\\x1b[37mB\\x1b[37mB\\x1b[37mB\\x1b[37mB\\x1b[37mB\\x1b[37mB\\x1b[37mB\\x1b[37mB\\x1b[37mB\\x1b[37mB\\x1b[37mB\\x1b[37mB\\x1b[37mB\\x1b[37mB\\x1b[37mB\\x1b[37mB\\x1b[37mB\\x1b[37mB\\x1b[37mB\\x1b[37mB\\x1b[37mB\\x1b[37mB\\x1b[37mB\\x1b[37mB\\x1b[37mB\\x1b[37mB\\x1b[37mB\\x1b[37mB\\x1b[37mW\\x1b[37mB\\x1b[37mB\\x1b[37mB\\x1b[37mB\\x1b[37mB\\x1b[37mB\\x1b[37mB\\x1b[37mB\\x1b[37mB\\x1b[37mB\\x1b[37mB\\x1b[37mB\\x1b[37mB\\x1b[37mB\\x1b[37mB\\x1b[37mB\\x1b[37mB\\x1b[37mB\\x1b[37mB\\x1b[37mB\\x1b[37mB\\x1b[37mB\\x1b[37mB\\x1b[37mB\\x1b[37mB\\x1b[37mD\\x1b[37mB\\x1b[37mB\\x1b[37mB\\x1b[37mB\\x1b[37mB\\x1b[37mB\\x1b[37mB\\x1b[37mB\\x1b[37mB\\x1b[37mB\\x1b[37mD\\x1b[37mB\\x1b[37mB\\x1b[37mB\\x1b[37mB\\x1b[37mB\\x1b[37mB\\x1b[37mB\\x1b[37mB\\x1b[37mB\\x1b[37mB\\x1b[37mD\\x1b[37mB\\x1b[37mD\\x1b[37mD\\x1b[37mD\\x1b[37mH\\x1b[37mH\\x1b[37mD\\x1b[37mD\\x1b[37mD\\x1b[37mH\\x1b[37mH\\x1b[37mH\\n\\x1b[37mK\\x1b[37m@\\x1b[37m@\\x1b[37mK\\x1b[37mH\\x1b[37mH\\x1b[37mH\\x1b[37mK\\x1b[37mH\\x1b[37mH\\x1b[37mH\\x1b[37mD\\x1b[37mD\\x1b[37mD\\x1b[37mD\\x1b[37mD\\x1b[37mD\\x1b[37mD\\x1b[37mD\\x1b[37mH\\x1b[37mD\\x1b[37mB\\x1b[37mD\\x1b[37mD\\x1b[37mB\\x1b[37mB\\x1b[37mB\\x1b[37mB\\x1b[37mB\\x1b[37mB\\x1b[37mB\\x1b[37mB\\x1b[37mB\\x1b[37mB\\x1b[37mB\\x1b[37mB\\x1b[37mB\\x1b[37mB\\x1b[37mB\\x1b[37mB\\x1b[37mB\\x1b[37mB\\x1b[37mB\\x1b[37mB\\x1b[37mB\\x1b[37mB\\x1b[37mB\\x1b[37mB\\x1b[37mB\\x1b[37mD\\x1b[37mB\\x1b[37mB\\x1b[37mB\\x1b[37mB\\x1b[37mB\\x1b[37mB\\x1b[37mB\\x1b[37mB\\x1b[37mB\\x1b[37mB\\x1b[37mW\\x1b[37mB\\x1b[37mB\\x1b[37mB\\x1b[37mB\\x1b[37mB\\x1b[37mB\\x1b[37mB\\x1b[37mB\\x1b[37mB\\x1b[37mB\\x1b[37mB\\x1b[37mB\\x1b[37mB\\x1b[37mB\\x1b[37mB\\x1b[37mB\\x1b[37mB\\x1b[37mD\\x1b[37mB\\x1b[37mB\\x1b[37mB\\x1b[37mB\\x1b[37mB\\x1b[37mB\\x1b[37mB\\x1b[37mB\\x1b[37mB\\x1b[37mB\\x1b[37mB\\x1b[37mB\\x1b[37mB\\x1b[37mB\\x1b[37mD\\x1b[37mB\\x1b[37mD\\x1b[37mD\\x1b[37mD\\x1b[37mD\\x1b[37mD\\x1b[37mD\\x1b[37mD\\x1b[37mD\\x1b[37mD\\x1b[37mB\\x1b[37mD\\x1b[37mD\\x1b[37mD\\x1b[37mD\\x1b[37mD\\x1b[37mD\\x1b[37mD\\x1b[37mD\\x1b[37mH\\x1b[37mH\\x1b[37mD\\x1b[37mH\\x1b[37mK\\x1b[37mD\\x1b[37mK\\n\\x1b[37mH\\x1b[37mH\\x1b[37mH\\x1b[37mH\\x1b[37mH\\x1b[37mD\\x1b[37mD\\x1b[37mH\\x1b[37mK\\x1b[37mH\\x1b[37mD\\x1b[37mH\\x1b[37mK\\x1b[37mD\\x1b[37mD\\x1b[37mD\\x1b[37mD\\x1b[37mK\\x1b[37mD\\x1b[37mB\\x1b[37mD\\x1b[37mD\\x1b[37mD\\x1b[37mB\\x1b[37mD\\x1b[37mD\\x1b[37mB\\x1b[37mD\\x1b[37mD\\x1b[37mD\\x1b[37mD\\x1b[37mB\\x1b[37mB\\x1b[37mD\\x1b[37mD\\x1b[37mB\\x1b[37mD\\x1b[37mD\\x1b[37mB\\x1b[37mB\\x1b[37mB\\x1b[37mB\\x1b[37mB\\x1b[37mB\\x1b[37mB\\x1b[37mB\\x1b[37mB\\x1b[37mB\\x1b[37mB\\x1b[37mB\\x1b[37mB\\x1b[37mB\\x1b[37mB\\x1b[37mB\\x1b[37mB\\x1b[37mB\\x1b[37mD\\x1b[37mB\\x1b[37mB\\x1b[37mB\\x1b[37mB\\x1b[37mB\\x1b[37mB\\x1b[37mD\\x1b[37mB\\x1b[37mB\\x1b[37mB\\x1b[37mB\\x1b[37mB\\x1b[37mB\\x1b[37mB\\x1b[37mB\\x1b[37mB\\x1b[37mB\\x1b[37mB\\x1b[37mD\\x1b[37mB\\x1b[37mB\\x1b[37mB\\x1b[37mB\\x1b[37mB\\x1b[37mB\\x1b[37mB\\x1b[37mB\\x1b[37mB\\x1b[37mB\\x1b[37mB\\x1b[37mB\\x1b[37mB\\x1b[37mB\\x1b[37mB\\x1b[37mB\\x1b[37mB\\x1b[37mB\\x1b[37mB\\x1b[37mB\\x1b[37mB\\x1b[37mB\\x1b[37mB\\x1b[37mB\\x1b[37mB\\x1b[37mB\\x1b[37mB\\x1b[37mD\\x1b[37mB\\x1b[37mD\\x1b[37mD\\x1b[37mD\\x1b[37mH\\x1b[37mD\\x1b[37mB\\x1b[37mK\\x1b[37mH\\x1b[37mD\\x1b[37mH\\x1b[37mH\\x1b[37mH\\x1b[37m$\\x1b[37mH\\x1b[37mK\\x1b[39m'"
            ],
            "application/vnd.google.colaboratory.intrinsic+json": {
              "type": "string"
            }
          },
          "metadata": {},
          "execution_count": 14
        }
      ]
    },
    {
      "cell_type": "code",
      "source": [
        "sepet = []\n",
        "\n",
        "while True:\n",
        "    eleman = input(\"Sepete eklemek istediğiniz elemanı yazın (Çıkmak için '0'): \")\n",
        "    if eleman == '0':\n",
        "        break\n",
        "    sepet.append(eleman)\n",
        "\n",
        "if sepet:\n",
        "    print(\"\\nSepetinizdeki elemanlar:\")\n",
        "    for item in sepet:\n",
        "        print(item)\n",
        "else:\n",
        "    print(\"\\nSepetiniz boş.\")"
      ],
      "metadata": {
        "colab": {
          "base_uri": "https://localhost:8080/",
          "height": 373
        },
        "id": "6qJjjP4rpH8E",
        "outputId": "5e0bb69b-7c0c-4bf2-c798-15f58048dc9c"
      },
      "execution_count": null,
      "outputs": [
        {
          "name": "stdout",
          "output_type": "stream",
          "text": [
            "Sepete eklemek istediğiniz elemanı yazın (Çıkmak için '0'): a\n"
          ]
        },
        {
          "output_type": "error",
          "ename": "KeyboardInterrupt",
          "evalue": "Interrupted by user",
          "traceback": [
            "\u001b[0;31m---------------------------------------------------------------------------\u001b[0m",
            "\u001b[0;31mKeyboardInterrupt\u001b[0m                         Traceback (most recent call last)",
            "\u001b[0;32m<ipython-input-1-c7072de2a89b>\u001b[0m in \u001b[0;36m<cell line: 0>\u001b[0;34m()\u001b[0m\n\u001b[1;32m      2\u001b[0m \u001b[0;34m\u001b[0m\u001b[0m\n\u001b[1;32m      3\u001b[0m \u001b[0;32mwhile\u001b[0m \u001b[0;32mTrue\u001b[0m\u001b[0;34m:\u001b[0m\u001b[0;34m\u001b[0m\u001b[0;34m\u001b[0m\u001b[0m\n\u001b[0;32m----> 4\u001b[0;31m     \u001b[0meleman\u001b[0m \u001b[0;34m=\u001b[0m \u001b[0minput\u001b[0m\u001b[0;34m(\u001b[0m\u001b[0;34m\"Sepete eklemek istediğiniz elemanı yazın (Çıkmak için '0'): \"\u001b[0m\u001b[0;34m)\u001b[0m\u001b[0;34m\u001b[0m\u001b[0;34m\u001b[0m\u001b[0m\n\u001b[0m\u001b[1;32m      5\u001b[0m     \u001b[0;32mif\u001b[0m \u001b[0meleman\u001b[0m \u001b[0;34m==\u001b[0m \u001b[0;34m'0'\u001b[0m\u001b[0;34m:\u001b[0m\u001b[0;34m\u001b[0m\u001b[0;34m\u001b[0m\u001b[0m\n\u001b[1;32m      6\u001b[0m         \u001b[0;32mbreak\u001b[0m\u001b[0;34m\u001b[0m\u001b[0;34m\u001b[0m\u001b[0m\n",
            "\u001b[0;32m/usr/local/lib/python3.11/dist-packages/ipykernel/kernelbase.py\u001b[0m in \u001b[0;36mraw_input\u001b[0;34m(self, prompt)\u001b[0m\n\u001b[1;32m   1175\u001b[0m                 \u001b[0;34m\"raw_input was called, but this frontend does not support input requests.\"\u001b[0m\u001b[0;34m\u001b[0m\u001b[0;34m\u001b[0m\u001b[0m\n\u001b[1;32m   1176\u001b[0m             )\n\u001b[0;32m-> 1177\u001b[0;31m         return self._input_request(\n\u001b[0m\u001b[1;32m   1178\u001b[0m             \u001b[0mstr\u001b[0m\u001b[0;34m(\u001b[0m\u001b[0mprompt\u001b[0m\u001b[0;34m)\u001b[0m\u001b[0;34m,\u001b[0m\u001b[0;34m\u001b[0m\u001b[0;34m\u001b[0m\u001b[0m\n\u001b[1;32m   1179\u001b[0m             \u001b[0mself\u001b[0m\u001b[0;34m.\u001b[0m\u001b[0m_parent_ident\u001b[0m\u001b[0;34m[\u001b[0m\u001b[0;34m\"shell\"\u001b[0m\u001b[0;34m]\u001b[0m\u001b[0;34m,\u001b[0m\u001b[0;34m\u001b[0m\u001b[0;34m\u001b[0m\u001b[0m\n",
            "\u001b[0;32m/usr/local/lib/python3.11/dist-packages/ipykernel/kernelbase.py\u001b[0m in \u001b[0;36m_input_request\u001b[0;34m(self, prompt, ident, parent, password)\u001b[0m\n\u001b[1;32m   1217\u001b[0m             \u001b[0;32mexcept\u001b[0m \u001b[0mKeyboardInterrupt\u001b[0m\u001b[0;34m:\u001b[0m\u001b[0;34m\u001b[0m\u001b[0;34m\u001b[0m\u001b[0m\n\u001b[1;32m   1218\u001b[0m                 \u001b[0;31m# re-raise KeyboardInterrupt, to truncate traceback\u001b[0m\u001b[0;34m\u001b[0m\u001b[0;34m\u001b[0m\u001b[0m\n\u001b[0;32m-> 1219\u001b[0;31m                 \u001b[0;32mraise\u001b[0m \u001b[0mKeyboardInterrupt\u001b[0m\u001b[0;34m(\u001b[0m\u001b[0;34m\"Interrupted by user\"\u001b[0m\u001b[0;34m)\u001b[0m \u001b[0;32mfrom\u001b[0m \u001b[0;32mNone\u001b[0m\u001b[0;34m\u001b[0m\u001b[0;34m\u001b[0m\u001b[0m\n\u001b[0m\u001b[1;32m   1220\u001b[0m             \u001b[0;32mexcept\u001b[0m \u001b[0mException\u001b[0m\u001b[0;34m:\u001b[0m\u001b[0;34m\u001b[0m\u001b[0;34m\u001b[0m\u001b[0m\n\u001b[1;32m   1221\u001b[0m                 \u001b[0mself\u001b[0m\u001b[0;34m.\u001b[0m\u001b[0mlog\u001b[0m\u001b[0;34m.\u001b[0m\u001b[0mwarning\u001b[0m\u001b[0;34m(\u001b[0m\u001b[0;34m\"Invalid Message:\"\u001b[0m\u001b[0;34m,\u001b[0m \u001b[0mexc_info\u001b[0m\u001b[0;34m=\u001b[0m\u001b[0;32mTrue\u001b[0m\u001b[0;34m)\u001b[0m\u001b[0;34m\u001b[0m\u001b[0;34m\u001b[0m\u001b[0m\n",
            "\u001b[0;31mKeyboardInterrupt\u001b[0m: Interrupted by user"
          ]
        }
      ]
    },
    {
      "cell_type": "code",
      "source": [
        "def giris():\n",
        "  print(\"Merhaba programa hoşgeldiniz!\")\n",
        "  print(\"Bu bir foknsiyondur.\")\n",
        "print(\"yukarıda fonksiyon tamamlandı\")"
      ],
      "metadata": {
        "colab": {
          "base_uri": "https://localhost:8080/"
        },
        "id": "cFJ0gtR6iScn",
        "outputId": "056db2dd-295b-4b2a-8bf9-c72aa117a4b2"
      },
      "execution_count": null,
      "outputs": [
        {
          "output_type": "stream",
          "name": "stdout",
          "text": [
            "yukarıda fonksiyon tamamlandı\n"
          ]
        }
      ]
    },
    {
      "cell_type": "code",
      "source": [
        "giris()"
      ],
      "metadata": {
        "colab": {
          "base_uri": "https://localhost:8080/"
        },
        "id": "iLCVUbGQiozK",
        "outputId": "8712789d-1331-4c7d-a21a-cd687eeac439"
      },
      "execution_count": null,
      "outputs": [
        {
          "output_type": "stream",
          "name": "stdout",
          "text": [
            "Merhaba programa hoşgeldiniz!\n",
            "Bu bir foknsiyondur.\n"
          ]
        }
      ]
    },
    {
      "cell_type": "code",
      "source": [
        "def Ali_Yas():\n",
        "  print(\"Ali'nin yasini bilmek istiyorsak şu işlemi yapalim:\" )\n",
        "  hesaplama = 2025 - 2010\n",
        "  print(\"Ali'nin yaşı:\",hesaplama)\n",
        "\n",
        "#Ekrana yazması için yaz!\n",
        "Ali_Yas()"
      ],
      "metadata": {
        "colab": {
          "base_uri": "https://localhost:8080/"
        },
        "id": "2wcQ98Z7ks-d",
        "outputId": "53cbaa6f-3f0c-4cf1-8a34-b3c383c73122"
      },
      "execution_count": null,
      "outputs": [
        {
          "output_type": "stream",
          "name": "stdout",
          "text": [
            "Ali'nin yasini bilmek istiyorsak şu işlemi yapalim:\n",
            "Ali'nin yaşı: 15\n"
          ]
        }
      ]
    },
    {
      "cell_type": "code",
      "source": [
        "def toplama_islemi():\n",
        "  sayi1= int(input(\"Lütfen sayı giriniz:\"))\n",
        "  sayi2= int(input(\"Lütfen bir sayı daha giriniz:\"))\n",
        "  toplam = sayi1 + sayi2\n",
        "  print(\"Sayıların toplamı:\",toplam)"
      ],
      "metadata": {
        "id": "VbBheIlzlkPY"
      },
      "execution_count": null,
      "outputs": []
    },
    {
      "cell_type": "code",
      "source": [
        "toplama_islemi()"
      ],
      "metadata": {
        "colab": {
          "base_uri": "https://localhost:8080/"
        },
        "id": "g913P61ymUgu",
        "outputId": "e8ae320c-7817-4632-edf0-736198d884a6"
      },
      "execution_count": null,
      "outputs": [
        {
          "output_type": "stream",
          "name": "stdout",
          "text": [
            "Lütfen sayı giriniz:1\n",
            "Lütfen bir sayı daha giriniz:3\n",
            "Sayıların toplamı: 4\n"
          ]
        }
      ]
    },
    {
      "cell_type": "markdown",
      "source": [
        "##Fonksiyona Parametre Yazma\n",
        "\n",
        "Fonksiyonda çalışacak değişkenlere parametreler denir.Bu parametreler fonksiyonun içinde çalışacak değerlerdir.Ana programda yazılımcı zorunlu olarak bunu doldurmalıdır.İster doğrudan bir değer yazar isterse elle bilgi girer."
      ],
      "metadata": {
        "id": "FBqkaii3oHbX"
      }
    },
    {
      "cell_type": "code",
      "source": [
        "#Parametre parantez içine yazılır.\n",
        "def kullanici_paneli(kullanici_adi, parola):\n",
        "  if kullanici_adi == \"Gary\" and parola == \"12A34B\":\n",
        "    print(\"Başarılı kullanıcı girişi!\")\n",
        "  else:\n",
        "    print(\"Başarısız kullanıcı girişi!\")"
      ],
      "metadata": {
        "id": "W3egQiRBuJXF"
      },
      "execution_count": null,
      "outputs": []
    },
    {
      "cell_type": "code",
      "source": [
        "k_adi = input(\"Kullanıcı adınızı giriniz:\")\n",
        "sifre = input(\"sifrenizi giriniz:\")\n",
        "kullanici_paneli(k_adi, sifre)"
      ],
      "metadata": {
        "colab": {
          "base_uri": "https://localhost:8080/"
        },
        "id": "sfMY7H0ewS5x",
        "outputId": "ccc05402-6c38-4657-c1dc-a06a75ed789e"
      },
      "execution_count": null,
      "outputs": [
        {
          "output_type": "stream",
          "name": "stdout",
          "text": [
            "Kullanıcı adınızı giriniz:Gary\n",
            "sifrenizi giriniz:12A34B\n",
            "Başarılı kullanıcı girişi!\n"
          ]
        }
      ]
    },
    {
      "cell_type": "code",
      "source": [
        "kullanici_paneli(\"Ahmet\", \"erfsdvce\")"
      ],
      "metadata": {
        "colab": {
          "base_uri": "https://localhost:8080/"
        },
        "id": "UdcnHiabxbj7",
        "outputId": "871b72ac-f108-44d2-aeda-2ba8a7a214e3"
      },
      "execution_count": null,
      "outputs": [
        {
          "output_type": "stream",
          "name": "stdout",
          "text": [
            "Başarısız kullanıcı girişi!\n"
          ]
        }
      ]
    },
    {
      "cell_type": "code",
      "source": [
        "# Kullanıcıdan parametre alarak yapın:\n",
        "# Kişinin okuduğu sınıfı ve şubesini alın eğer sınıfı ve şubesini alın eğer sınıfı 4\n",
        "#Şubesi H ise hoşgeldiniz, değilse siz bu sınıfa ait değilsiniz yazsın.\n",
        "#Parametre fonksiyona değişken alarak yazdırma demektir!1!1!1!"
      ],
      "metadata": {
        "id": "GNAONROXxnxc"
      },
      "execution_count": null,
      "outputs": []
    },
    {
      "cell_type": "code",
      "source": [
        "def kullanici_sınıf(sınıf, şube):\n",
        "  if sınıf == \"6\" and şube == \"E\":\n",
        "    print(\"Hoşgeldiniz\")\n",
        "  else:\n",
        "    print(\"Siz bu sınıfa ait değilsiniz\")"
      ],
      "metadata": {
        "id": "xmksxPndytbO"
      },
      "execution_count": null,
      "outputs": []
    },
    {
      "cell_type": "code",
      "source": [
        "kullanici_sınıf(\"6\",\"E\")"
      ],
      "metadata": {
        "colab": {
          "base_uri": "https://localhost:8080/"
        },
        "id": "wA993HZWy7iY",
        "outputId": "98b5a133-4562-47b3-fa32-d79145dedd6f"
      },
      "execution_count": null,
      "outputs": [
        {
          "output_type": "stream",
          "name": "stdout",
          "text": [
            "Hoşgeldiniz\n"
          ]
        }
      ]
    }
  ]
}