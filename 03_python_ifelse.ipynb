{
  "nbformat": 4,
  "nbformat_minor": 0,
  "metadata": {
    "colab": {
      "provenance": [],
      "include_colab_link": true
    },
    "kernelspec": {
      "name": "python3",
      "display_name": "Python 3"
    },
    "language_info": {
      "name": "python"
    }
  },
  "cells": [
    {
      "cell_type": "markdown",
      "metadata": {
        "id": "view-in-github",
        "colab_type": "text"
      },
      "source": [
        "<a href=\"https://colab.research.google.com/github/Goktug-860/Python_BeginnerEducat/blob/main/03_python_ifelse.ipynb\" target=\"_parent\"><img src=\"https://colab.research.google.com/assets/colab-badge.svg\" alt=\"Open In Colab\"/></a>"
      ]
    },
    {
      "cell_type": "markdown",
      "source": [
        "#--Python'da If-Else Yapısı--\n",
        "If-Else değişkenlerimizin içindeki değerlerin karşılaştırmasını yapan ve içeriğine göre işlemlerde değişiklik yapabilmemizi sağlayan özel bir yapıdır. If-Else sayesinde kullanıcıların tercihlerine göre alternatif yazılımlar tasarlayabiliriz."
      ],
      "metadata": {
        "id": "ap1UJ__czQ1q"
      }
    },
    {
      "cell_type": "code",
      "execution_count": null,
      "metadata": {
        "colab": {
          "base_uri": "https://localhost:8080/"
        },
        "id": "hbw-GD4xzNSp",
        "outputId": "a4cc2123-d95d-4f02-bc9b-ead6d1dc430e"
      },
      "outputs": [
        {
          "output_type": "stream",
          "name": "stdout",
          "text": [
            "Merhaba Hanımefendi\n",
            "program bitti.\n"
          ]
        }
      ],
      "source": [
        "#Cinsiyete göre print yazısının değiştiği ufak deneme\n",
        "#Boolean: 0 veya 1 değeri anlamına gelen ve sadece True (Doğru) veya False (Yanlış) değeri alan değişkenlerdir.\n",
        "cinsiyet = True #True = Kadınlar // False = Erkekler\n",
        "#IF-ELSE\n",
        "if cinsiyet == True:\n",
        "  print(\"Merhaba Hanımefendi\")\n",
        "else:\n",
        "  print(\"Merhaba Beyefendi\")\n",
        "print(\"program bitti.\")"
      ]
    },
    {
      "cell_type": "markdown",
      "source": [
        "#If-Else Yapısının Açıklaması\n",
        "---\n",
        "If-Else yapısının yazımı aşağıdaki gibidir:\n",
        "\n",
        "\n",
        "```\n",
        "if (değişken_adı) (Neye Bakılacak?) (değişkenin_kontrol_edileceği_değer):\n",
        "# DÖRT BOŞLUK BIRAKILIR VEYA TAB TUŞUNA BASILARAK if İÇİNE DEĞER YAZILIR.\n",
        "  Koşul sağlandığında çalışacak kodlar\n",
        "else: #DEĞİLSE ANLAMINA GELEN KOD BLOĞUDUR.\n",
        "# DÖRT BOŞLUK BIRAKILIR VEYA TAB TUŞUNA BASILARAK if İÇİNE DEĞER YAZILIR.\n",
        "  Koşul sağlandığında çalışacak kodlar\n",
        "```\n",
        "##ÖNEMLİ NOKTALAR\n",
        "---\n",
        "\n",
        "\n",
        "Neye bakılacağından kast edilen şey değişkenin içindeki değer nasıl kontrol edilecek? Yani içindeki değere eşit mi eşit olmamalı mı yoksa içindeki değerden büyük veya küçük mü olmalı gibi farklı karşılaştırmalarına bakmayı ifade etmektedir. <br>\n",
        "\n",
        "**MANTIKSAL KOŞULLAR**\n",
        "Eğer değilse gibi yapılarda kullanılan karşılaştırmayı sağlayan mantıksal operatörler olarak bilinmektedir. Bu mantıksal operatörler değişkenlerin içindeki değerlerin eşit olup olmadığını, büyük veya küçük olup olmamasına göre karar vermemizi sağlar.\n",
        "\n",
        "**İŞARETLER**\n",
        "<br>\n",
        "**(= =)** -> Eşittir. <br>\n",
        "**(! =)** -> Eşit Değildir. <br>\n",
        "**(>)**   -> Büyüktür anlamındadır. <br>\n",
        "**(<)**   -> Küçüktür anlamındadır. <br>\n",
        "**(> =)** -> Büyük ve eşittir anlamındadır. <br>\n",
        "**(< =)** -> Küçük ve eşittir anlamındadır. <br>\n",
        "\n",
        "**NOT:** İşaretler arasında boşluk bırakmayın(== veya != gibi yapın.)\n",
        "\n",
        "2.   **İKİ NOKTA ÜST ÜSTENİN ANLAMI**\n",
        "İki nokta üst üste Python'da altındaki satırın üstteki satırın önemli komutları olduğunu göstermektedir. <br>\n",
        "**ÖRNEĞİN:** <br>\n",
        "Koşul:\n",
        "  Koşul sağlandığında çalışacak kod.\n",
        "```\n",
        "if sayi == 1:\n",
        "  print(\"sayinin degeri 1'dir.\")\n",
        "```\n",
        "\n",
        "**DİKKAT:** İki nokta üst üste koyulduktan sonra alttaki satır dört boşlukla **yazılıyor**.\n",
        "\n",
        "\n",
        "\n",
        "\n",
        "\n",
        "\n"
      ],
      "metadata": {
        "id": "kQ3diAmy5etm"
      }
    },
    {
      "cell_type": "code",
      "source": [
        "# Cinsiyet e veya E olursa erkek\n",
        "# Cinsiyet k veya K olursa kadın\n",
        "cinsiyet = \"K\"\n",
        "if cinsiyet == \"k\" or cinsiyet == \"K\" or cinsiyet == \"Kadın\" or cinsiyet == \"kadın\" or cinsiyet != \"erkek\": # or veya anlamına gelmektedir.\n",
        "  print(\"Merhaba Hanımefendi\")\n",
        "#elif ise else if anlamına gelmektedir.\n",
        "elif cinsiyet == \"e\" or cinsiyet == \"E\" or cinsiyet == \"Erkek\" or cinsiyet == \"erkek\" or cinsiyet !=\"kadın\":\n",
        "  print(\"Merhaba Beyefendi\")\n",
        "else:\n",
        "  print(\"Lütfen cinsiyetinizi belirtiniz\")"
      ],
      "metadata": {
        "colab": {
          "base_uri": "https://localhost:8080/"
        },
        "id": "-2ULbNhGAgv8",
        "outputId": "bc4a58e3-682c-41f5-e8da-c7265ff4a7f2"
      },
      "execution_count": null,
      "outputs": [
        {
          "output_type": "stream",
          "name": "stdout",
          "text": [
            "Merhaba Hanımefendi\n"
          ]
        }
      ]
    },
    {
      "cell_type": "code",
      "source": [
        "# Sayılarda Koşullar da kullanılabilir.\n",
        "# Girdiğimiz sayı 1 ile 100 arasında mı bunu kontrol edelim.\n",
        "sayi = int(input(\"Lütfen bir sayi giriniz.\"))\n",
        "#İç içe geçen if'ler yapılabilir.\n",
        "if sayi != 0: #0'dan farklıysa çalışsın dedim.\n",
        "  if sayi >= 1 and sayi <= 100: #1-100 arası sayıya baktım.\n",
        "    print(f\"Girdiğiniz sayı 1 ile 100 arasında girildi. Sayınız: {sayi}\")\n",
        "  else:\n",
        "    print(\"Sayınız istediğimiz aralıkta değil.\")\n"
      ],
      "metadata": {
        "id": "lFy3NY-eF8To"
      },
      "execution_count": null,
      "outputs": []
    },
    {
      "cell_type": "code",
      "source": [
        "#Kullanıcının girdiği isim \"Haşmet\" veya \"haşmet\" ise kullanıcıya diğer bir soru sor.\n",
        "#Diğer soru ise soyadı \"Dayı\" veya \"dayı\" ise kullanıcının girişine izin veren yazıyı yazdırın.\n",
        "#Özetle; İki değişken oluşturun ve bu değişkenlerin içine iç içe geçmiş if'lerle bakın.\n",
        "#Önce ilk soruyu sor kontrol et. Doğruysa ikinci soruyu sor.\n",
        "isim = input(\"Lütfen kullanıcı adınızı giriniz:\")\n",
        "if isim == \"haşmet\" or isim ==\"Haşmet\":\n",
        "  soyisim = input(\"Lütfen soyadınızı giriniz:\")\n",
        "  if soyisim == \"dayı\" or soyisim ==\"Dayı\":\n",
        "    print(\"Kullanıcı girişi başarılı!\")\n",
        "  else:\n",
        "    print(\"Kullanıcı soyadı yanlış!\")\n",
        "else:\n",
        "  print(\"Kullanıcı adı yanlış!\")"
      ],
      "metadata": {
        "id": "ynAWhvpOIP4n"
      },
      "execution_count": null,
      "outputs": []
    },
    {
      "cell_type": "code",
      "source": [
        "cinsiyet = input(\"cinsiyetinizi lütfen giriniz\")\n",
        "if cinsiyet =='erkek' or cinsiyet == 'ERKEK' or cinsiyet != 'kadın' or cinsiyet != 'KADIN':\n",
        "  print(\"Merhaba beyefendi\")\n",
        "\n",
        "elif cinsiyet == 'kadın' or cinsiyet == 'KADIN' or cinsiyet != 'erkek' or cinsiyet != 'ERKEK':\n",
        "  print(\"Merhaba hanımefendi.\")\n",
        "else:\n",
        "  print(\"YANLIŞ GİRDİNİZ. Bir cinsiyet giriniz!\")"
      ],
      "metadata": {
        "colab": {
          "base_uri": "https://localhost:8080/"
        },
        "id": "pGoXy_kTE22_",
        "outputId": "5bdfda12-bd09-4b05-f85b-1045fe097003"
      },
      "execution_count": null,
      "outputs": [
        {
          "output_type": "stream",
          "name": "stdout",
          "text": [
            "cinsiyetinizi lütfen girinizjgfsd\n",
            "Merhaba beyefendi\n"
          ]
        }
      ]
    },
    {
      "cell_type": "markdown",
      "source": [
        "#ÖDEV-2\n",
        "Kullanıcı klavyeden \"1\" rakamını girerse baklavayı seviyorum yazacak.\n",
        "Kullanıcı klavyeden \"2\" rakamını girerse pasta seviyorum yazacak.\n",
        "Kullanıcı klavyeden \"3\" rakamını girerse tuzlu seviyorum yazacak.\n",
        "Kullanıcı klavyeden \"0\" rakamını girerse tatlı sevmiyorum yazacak.\n",
        "\n"
      ],
      "metadata": {
        "id": "TBAhkugNNEkk"
      }
    },
    {
      "cell_type": "markdown",
      "source": [
        "#If-Else Yapısı 2: ELIF'in Dönüşü\n",
        "---\n",
        "**Elif** aslında **Else-if** anlamına gelen, yukarıdaki koşul değilse eğer deyip çalıştırdığımız başka bir koşul anlamına gelir. Diğer programlama dillerinde **else if** diyerek yazılan ama Python'da kısadan **elif** diye geçen bir koddur. **Elif** yazdıktan sonra yine else deyimi kullanılabilir."
      ],
      "metadata": {
        "id": "yHY4UeRq2pfB"
      }
    },
    {
      "cell_type": "code",
      "source": [
        "print(\"VakıfBank'a Hoşgeldiniz!\")\n",
        "print(\"Dahili numarayı biliyorsanız tuşlayın!\")\n",
        "print(\"Çalıntı kredi kartı işlemleri için 1'i, \\n\")\n",
        "print(\"Fatura hesap kesim bilgileri için 2'yi, \\n\")\n",
        "print(\"Kredi başvurusu için 3'ü, \\n\")\n",
        "print(\"Otomatik ödeme talimatı oluşturmak için 4'i, \\n\")\n",
        "print(\"Menüyü tekrar dinlemek için 9'u tuşlayınız.\")\n",
        "islem_secimi = int(input(\"Aşağıdaki işlemlerden birini tuşlayınız.\"))\n",
        "\n",
        "if (islem_secimi == 1):\n",
        "  print(\"Kredi kartınızın son dört hanesini giriniz.\")\n",
        "  son_dort_no = int(input(\"Lütfen işlem için tuşlayınız:\"))\n",
        "  kart_sifre = int(input(\"Lütfen kartınızın şifresini giriniz:\"))\n",
        "  print(\"Kartınızı bloke ettik. Rica ederiz.\")\n",
        "\n",
        "#İŞLEM 2 BASLANGIC\n",
        "elif(islem_secimi == 2):\n",
        "  fatura_abone_no = int(input(\"Lütfen fatura numaranızı giriniz:\"))\n",
        "  if (fatura_abone_no == 1234):\n",
        "    islem_odensin_mi = False\n",
        "    odeme_yapilsin_mi = input(\"238 TL'lik bir su faturanız var. Ödeyelim mi? (E/H)\")\n",
        "    if (odeme_yapilsin_mi == \"E\" or odeme_yapilsin_mi == \"e\"):\n",
        "      islem_odensin_mi = True\n",
        "      if (islem_odensin_mi == True): print(\"Faturanız ödendi!\")\n",
        "    else: print(\"Ödemeyi ertelediniz. İyi günler!\")\n",
        "  else: print(\"Abonman numarasını yanlış girdiniz. İyi günler!\")\n",
        "# İŞLEM 2 SON\n",
        "\n",
        "# İŞLEM 3 BASLANGIC\n",
        "elif(islem_secimi == 3):\n",
        "  kredi_miktar =int(input(\"Lütfen talep ettiğiniz kredi miktarını TL cinsinden tuşlayınız:\"))\n",
        "  if(kredi_miktar <= 5000):\n",
        "    print(\"Krediniz hazır! En yakın ATM'den çekebilirsiniz.\")\n",
        "  elif(islem_secimi > 5000):\n",
        "    print(\"Girdiğiniz kredi miktarı çok fazla olduğundan işlem yapamıyoruz.\")\n",
        "    print(\"Lütfen en yakın şubeden kredi işleminizi gerçekleştiriniz.\")\n",
        "# İŞLEM 3 SON\n",
        "\n",
        "# İŞLEM 4 BASLANGIC\n",
        "elif(islem_secimi == 4):\n",
        "  fatura_ad = input(\"Fatura adınızı giriniz. Lütfen küçük harflerle tuşlayınız:\")\n",
        "  if(fatura_ad == \"su\" or fatura_ad == \"elektrik\" or fatura_ad == \"doğalgaz\"):\n",
        "    print(\"Faturanıza otomatik ödeme talimatı verdiniz. İyi günler!\")\n",
        "# İŞLEM 4 SON\n",
        "\n",
        "# İŞLEM 9 BASLANGIC\n",
        "elif(islem_secimi == 9):\n",
        "  print(\"Programı tekrar çalıştırınız!\")\n",
        "# İŞLEM 9 SON\n",
        "else:\n",
        "  print(\"Herhangi bir işlem seçilmemiştir. Lütfen yukarıdaki işlemlerden birini seçiniz! İyi günler! Baş baş!\")"
      ],
      "metadata": {
        "colab": {
          "base_uri": "https://localhost:8080/"
        },
        "id": "KgUfoY5U3FTa",
        "outputId": "752be7f1-cb57-4814-a3da-a26b28abcf65"
      },
      "execution_count": null,
      "outputs": [
        {
          "output_type": "stream",
          "name": "stdout",
          "text": [
            "VakıfBank'a Hoşgeldiniz!\n",
            "Dahili numarayı biliyorsanız tuşlayın!\n",
            "Çalıntı kredi kartı işlemleri için 1'i, \n",
            "\n",
            "Fatura hesap kesim bilgileri için 2'yi, \n",
            "\n",
            "Kredi başvurusu için 3'ü, \n",
            "\n",
            "Hesap kesim tarihini öğrenmek için 4'ü, \n",
            "\n",
            "Otomatik ödeme talimatı oluşturmak için 5'i, \n",
            "\n",
            "Menüyü tekrar dinlemek için 9'u tuşlayınız.\n",
            "Aşağıdaki işlemlerden birini tuşlayınız.2\n",
            "Lütfen fatura numaranızı giriniz:1234\n",
            "238 TL'lik bir su faturanız var. Ödeyelim mi? (E/H)E\n",
            "Faturanız ödendi!\n"
          ]
        }
      ]
    },
    {
      "cell_type": "code",
      "source": [
        "Not = int(input(\"Lütfen notunuzu giriniz:\"))\n",
        "if Not <= 100 and Not >= 85:\n",
        "  print(\"Pekiyi\")\n",
        "elif Not <= 84 and Not >= 70:\n",
        "  print(\"İyi\")\n",
        "elif Not <= 69 and Not >= 50:\n",
        "  print(\"Orta\")\n",
        "elif Not <= 49 and Not >= 0:\n",
        "  print(\"Kaldın\")\n",
        "else:\n",
        "  print(\"lütfen doğru girin\")"
      ],
      "metadata": {
        "colab": {
          "base_uri": "https://localhost:8080/"
        },
        "id": "jK5rxpTa-y67",
        "outputId": "c023bc66-fcb3-47ed-dde0-730a25b43cb1"
      },
      "execution_count": null,
      "outputs": [
        {
          "output_type": "stream",
          "name": "stdout",
          "text": [
            "Lütfen notunuzugirimiz:5485\n",
            "lütfen doğru girin\n"
          ]
        }
      ]
    },
    {
      "cell_type": "code",
      "source": [
        "# Cinsiyet e veya E olursa erkek\n",
        "# Cinsiyet k veya K olursa kadın\n",
        "cinsiyet = \"K\"\n",
        "if cinsiyet == \"k\" or cinsiyet == \"K\":\n",
        "  print(\"Merhaba Hanımefendi\")\n",
        "elif cinsiyet == \"e\" or cinsiyet == \"E\":\n",
        "  print(\"Merhaba Beyefendi\")\n",
        "else:\n",
        "  print(\"Lütfen cinsiyetinizi belirtiniz\")"
      ],
      "metadata": {
        "id": "sZWKwx8OXHG-"
      },
      "execution_count": null,
      "outputs": []
    },
    {
      "cell_type": "code",
      "source": [
        "sayi = int(input(\"Lütfen bir sayı giriniz:\"))\n",
        "\n",
        "if sayi % 2 == 0:\n",
        "  print(\"Bu sayı 2'ye tam bölünebilmektedir.\")\n",
        "elif sayi % 3 = 0:\n",
        "  print(\"Bu sayı 3'e tam bölünebilmektedir.\")\n",
        "else:\n",
        "  print(\"Bu sayı 2'ye veya 3'e tam bölünemez.\")"
      ],
      "metadata": {
        "id": "8kfIiAhVdK7-"
      },
      "execution_count": null,
      "outputs": []
    },
    {
      "cell_type": "code",
      "source": [
        "isim = input(\"Lütfen kullanıcı adınızı giriniz:\")\n",
        "if isim == \"CodeLine\":\n",
        "  sifre = input(\"Lütfen şifrenizi giriniz:\")\n",
        "  if sifre == \"1234\":\n",
        "    print(\"Kullanıcı girişi başarılı!\")\n",
        "  else:\n",
        "    print(\"Kullanıcı soyadı yanlış!\")\n",
        "else:\n",
        "  print(\"Kullanıcı adı yanlış!\")"
      ],
      "metadata": {
        "id": "poVQWx8-fqjU"
      },
      "execution_count": null,
      "outputs": []
    }
  ]
}